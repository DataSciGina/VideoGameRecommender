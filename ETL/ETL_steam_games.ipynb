{
 "cells": [
  {
   "cell_type": "markdown",
   "metadata": {},
   "source": [
    "# ETL (Ingeniería de Datos)"
   ]
  },
  {
   "cell_type": "markdown",
   "metadata": {},
   "source": [
    "### Importar Librerías"
   ]
  },
  {
   "cell_type": "code",
   "execution_count": 1,
   "metadata": {},
   "outputs": [],
   "source": [
    "import warnings\n",
    "\n",
    "# Ignorar todas las advertencias\n",
    "warnings.filterwarnings(\"ignore\")\n",
    "\n",
    "import pandas as pd\n",
    "import sys\n",
    "import os\n",
    "import numpy as np"
   ]
  },
  {
   "cell_type": "code",
   "execution_count": 2,
   "metadata": {},
   "outputs": [],
   "source": [
    "# Obtener el directorio de trabajo actual\n",
    "current_dir = os.getcwd()\n",
    "\n",
    "# Navegar hacia el directorio raíz del proyecto\n",
    "project_root = os.path.abspath(os.path.join(current_dir, '..'))\n",
    "\n",
    "# Agregar la ruta del proyecto al sys.path\n",
    "sys.path.append(project_root)"
   ]
  },
  {
   "cell_type": "markdown",
   "metadata": {},
   "source": [
    "Importar funciones para ETL (funciones creadas en la carpeta function, archivo ETL)"
   ]
  },
  {
   "cell_type": "code",
   "execution_count": 3,
   "metadata": {},
   "outputs": [],
   "source": [
    "from functions.ETL import load_data, normalize, export # (funciones creadas en la carpeta function, archivo ETL)"
   ]
  },
  {
   "cell_type": "markdown",
   "metadata": {},
   "source": [
    "## Extracción de datos"
   ]
  },
  {
   "cell_type": "markdown",
   "metadata": {},
   "source": [
    "Ruta del archivo:"
   ]
  },
  {
   "cell_type": "code",
   "execution_count": 4,
   "metadata": {},
   "outputs": [],
   "source": [
    "path = r'..\\data\\steam_games.json.gz'"
   ]
  },
  {
   "cell_type": "markdown",
   "metadata": {},
   "source": [
    "Extracción y Visualización de datos"
   ]
  },
  {
   "cell_type": "code",
   "execution_count": 5,
   "metadata": {},
   "outputs": [
    {
     "data": {
      "text/html": [
       "<div>\n",
       "<style scoped>\n",
       "    .dataframe tbody tr th:only-of-type {\n",
       "        vertical-align: middle;\n",
       "    }\n",
       "\n",
       "    .dataframe tbody tr th {\n",
       "        vertical-align: top;\n",
       "    }\n",
       "\n",
       "    .dataframe thead th {\n",
       "        text-align: right;\n",
       "    }\n",
       "</style>\n",
       "<table border=\"1\" class=\"dataframe\">\n",
       "  <thead>\n",
       "    <tr style=\"text-align: right;\">\n",
       "      <th></th>\n",
       "      <th>publisher</th>\n",
       "      <th>genres</th>\n",
       "      <th>app_name</th>\n",
       "      <th>title</th>\n",
       "      <th>url</th>\n",
       "      <th>release_date</th>\n",
       "      <th>tags</th>\n",
       "      <th>reviews_url</th>\n",
       "      <th>specs</th>\n",
       "      <th>price</th>\n",
       "      <th>early_access</th>\n",
       "      <th>id</th>\n",
       "      <th>developer</th>\n",
       "    </tr>\n",
       "  </thead>\n",
       "  <tbody>\n",
       "    <tr>\n",
       "      <th>0</th>\n",
       "      <td>None</td>\n",
       "      <td>None</td>\n",
       "      <td>None</td>\n",
       "      <td>None</td>\n",
       "      <td>None</td>\n",
       "      <td>None</td>\n",
       "      <td>None</td>\n",
       "      <td>None</td>\n",
       "      <td>None</td>\n",
       "      <td>None</td>\n",
       "      <td>NaN</td>\n",
       "      <td>NaN</td>\n",
       "      <td>None</td>\n",
       "    </tr>\n",
       "    <tr>\n",
       "      <th>1</th>\n",
       "      <td>None</td>\n",
       "      <td>None</td>\n",
       "      <td>None</td>\n",
       "      <td>None</td>\n",
       "      <td>None</td>\n",
       "      <td>None</td>\n",
       "      <td>None</td>\n",
       "      <td>None</td>\n",
       "      <td>None</td>\n",
       "      <td>None</td>\n",
       "      <td>NaN</td>\n",
       "      <td>NaN</td>\n",
       "      <td>None</td>\n",
       "    </tr>\n",
       "    <tr>\n",
       "      <th>2</th>\n",
       "      <td>None</td>\n",
       "      <td>None</td>\n",
       "      <td>None</td>\n",
       "      <td>None</td>\n",
       "      <td>None</td>\n",
       "      <td>None</td>\n",
       "      <td>None</td>\n",
       "      <td>None</td>\n",
       "      <td>None</td>\n",
       "      <td>None</td>\n",
       "      <td>NaN</td>\n",
       "      <td>NaN</td>\n",
       "      <td>None</td>\n",
       "    </tr>\n",
       "    <tr>\n",
       "      <th>3</th>\n",
       "      <td>None</td>\n",
       "      <td>None</td>\n",
       "      <td>None</td>\n",
       "      <td>None</td>\n",
       "      <td>None</td>\n",
       "      <td>None</td>\n",
       "      <td>None</td>\n",
       "      <td>None</td>\n",
       "      <td>None</td>\n",
       "      <td>None</td>\n",
       "      <td>NaN</td>\n",
       "      <td>NaN</td>\n",
       "      <td>None</td>\n",
       "    </tr>\n",
       "    <tr>\n",
       "      <th>4</th>\n",
       "      <td>None</td>\n",
       "      <td>None</td>\n",
       "      <td>None</td>\n",
       "      <td>None</td>\n",
       "      <td>None</td>\n",
       "      <td>None</td>\n",
       "      <td>None</td>\n",
       "      <td>None</td>\n",
       "      <td>None</td>\n",
       "      <td>None</td>\n",
       "      <td>NaN</td>\n",
       "      <td>NaN</td>\n",
       "      <td>None</td>\n",
       "    </tr>\n",
       "  </tbody>\n",
       "</table>\n",
       "</div>"
      ],
      "text/plain": [
       "  publisher genres app_name title   url release_date  tags reviews_url specs  \\\n",
       "0      None   None     None  None  None         None  None        None  None   \n",
       "1      None   None     None  None  None         None  None        None  None   \n",
       "2      None   None     None  None  None         None  None        None  None   \n",
       "3      None   None     None  None  None         None  None        None  None   \n",
       "4      None   None     None  None  None         None  None        None  None   \n",
       "\n",
       "  price  early_access  id developer  \n",
       "0  None           NaN NaN      None  \n",
       "1  None           NaN NaN      None  \n",
       "2  None           NaN NaN      None  \n",
       "3  None           NaN NaN      None  \n",
       "4  None           NaN NaN      None  "
      ]
     },
     "execution_count": 5,
     "metadata": {},
     "output_type": "execute_result"
    }
   ],
   "source": [
    "df = load_data(path) # (funciones creadas en la carpeta function, archivo ETL)\n",
    "df.head()"
   ]
  },
  {
   "cell_type": "markdown",
   "metadata": {},
   "source": [
    "## Transformación de los Datos"
   ]
  },
  {
   "cell_type": "markdown",
   "metadata": {},
   "source": [
    "### Limpieza de los datos"
   ]
  },
  {
   "cell_type": "markdown",
   "metadata": {},
   "source": [
    "#### Eliminar Filas innecesarias"
   ]
  },
  {
   "cell_type": "markdown",
   "metadata": {},
   "source": [
    "Eliminar filas con todos los elementos vacíos:"
   ]
  },
  {
   "cell_type": "code",
   "execution_count": 6,
   "metadata": {},
   "outputs": [
    {
     "data": {
      "text/plain": [
       "32135"
      ]
     },
     "execution_count": 6,
     "metadata": {},
     "output_type": "execute_result"
    }
   ],
   "source": [
    "df_clean = df.dropna(how='all')\n",
    "len(df_clean)"
   ]
  },
  {
   "cell_type": "markdown",
   "metadata": {},
   "source": [
    "app_name tiene dos elementos vacíos que respecto a otras columnas lo hace imposible de identificar un registro"
   ]
  },
  {
   "cell_type": "code",
   "execution_count": 7,
   "metadata": {},
   "outputs": [
    {
     "data": {
      "text/plain": [
       "32133"
      ]
     },
     "execution_count": 7,
     "metadata": {},
     "output_type": "execute_result"
    }
   ],
   "source": [
    "df_clean = df_clean.dropna(subset=['app_name'])\n",
    "len(df_clean)"
   ]
  },
  {
   "cell_type": "markdown",
   "metadata": {},
   "source": [
    "Identificar duplicados por id y app_name:"
   ]
  },
  {
   "cell_type": "code",
   "execution_count": 8,
   "metadata": {},
   "outputs": [
    {
     "data": {
      "text/html": [
       "<div>\n",
       "<style scoped>\n",
       "    .dataframe tbody tr th:only-of-type {\n",
       "        vertical-align: middle;\n",
       "    }\n",
       "\n",
       "    .dataframe tbody tr th {\n",
       "        vertical-align: top;\n",
       "    }\n",
       "\n",
       "    .dataframe thead th {\n",
       "        text-align: right;\n",
       "    }\n",
       "</style>\n",
       "<table border=\"1\" class=\"dataframe\">\n",
       "  <thead>\n",
       "    <tr style=\"text-align: right;\">\n",
       "      <th></th>\n",
       "      <th>publisher</th>\n",
       "      <th>genres</th>\n",
       "      <th>app_name</th>\n",
       "      <th>title</th>\n",
       "      <th>url</th>\n",
       "      <th>release_date</th>\n",
       "      <th>tags</th>\n",
       "      <th>reviews_url</th>\n",
       "      <th>specs</th>\n",
       "      <th>price</th>\n",
       "      <th>early_access</th>\n",
       "      <th>id</th>\n",
       "      <th>developer</th>\n",
       "    </tr>\n",
       "  </thead>\n",
       "  <tbody>\n",
       "    <tr>\n",
       "      <th>102883</th>\n",
       "      <td>Bethesda Softworks</td>\n",
       "      <td>[Action]</td>\n",
       "      <td>Wolfenstein II: The New Colossus</td>\n",
       "      <td>Wolfenstein II: The New Colossus</td>\n",
       "      <td>http://store.steampowered.com/app/612880/Wolfe...</td>\n",
       "      <td>2017-10-26</td>\n",
       "      <td>[Action, FPS, Gore, Violent, Alternate History...</td>\n",
       "      <td>http://steamcommunity.com/app/612880/reviews/?...</td>\n",
       "      <td>[Single-player, Steam Achievements, Full contr...</td>\n",
       "      <td>59.99</td>\n",
       "      <td>0.0</td>\n",
       "      <td>612880.0</td>\n",
       "      <td>Machine Games</td>\n",
       "    </tr>\n",
       "  </tbody>\n",
       "</table>\n",
       "</div>"
      ],
      "text/plain": [
       "                 publisher    genres                          app_name  \\\n",
       "102883  Bethesda Softworks  [Action]  Wolfenstein II: The New Colossus   \n",
       "\n",
       "                                   title  \\\n",
       "102883  Wolfenstein II: The New Colossus   \n",
       "\n",
       "                                                      url release_date  \\\n",
       "102883  http://store.steampowered.com/app/612880/Wolfe...   2017-10-26   \n",
       "\n",
       "                                                     tags  \\\n",
       "102883  [Action, FPS, Gore, Violent, Alternate History...   \n",
       "\n",
       "                                              reviews_url  \\\n",
       "102883  http://steamcommunity.com/app/612880/reviews/?...   \n",
       "\n",
       "                                                    specs  price  \\\n",
       "102883  [Single-player, Steam Achievements, Full contr...  59.99   \n",
       "\n",
       "        early_access        id      developer  \n",
       "102883           0.0  612880.0  Machine Games  "
      ]
     },
     "execution_count": 8,
     "metadata": {},
     "output_type": "execute_result"
    }
   ],
   "source": [
    "df_clean[df_clean.duplicated(df_clean.columns[df_clean.columns.isin(['app_name', 'id'])])]"
   ]
  },
  {
   "cell_type": "markdown",
   "metadata": {},
   "source": [
    "Eliminar duplicados"
   ]
  },
  {
   "cell_type": "code",
   "execution_count": 9,
   "metadata": {},
   "outputs": [
    {
     "data": {
      "text/plain": [
       "32132"
      ]
     },
     "execution_count": 9,
     "metadata": {},
     "output_type": "execute_result"
    }
   ],
   "source": [
    "df_clean = df_clean.drop_duplicates(df_clean.columns[df_clean.columns.isin(['app_name', 'id'])], keep='first')\n",
    "len(df_clean)"
   ]
  },
  {
   "cell_type": "markdown",
   "metadata": {},
   "source": [
    "Comparar columnas app_name con title:"
   ]
  },
  {
   "cell_type": "code",
   "execution_count": 10,
   "metadata": {},
   "outputs": [
    {
     "data": {
      "text/plain": [
       "2603"
      ]
     },
     "execution_count": 10,
     "metadata": {},
     "output_type": "execute_result"
    }
   ],
   "source": [
    "distincts = df_clean[df_clean['app_name'] != df_clean['title']]\n",
    "len(distincts)"
   ]
  },
  {
   "cell_type": "code",
   "execution_count": 11,
   "metadata": {},
   "outputs": [
    {
     "data": {
      "text/plain": [
       "np.int64(555)"
      ]
     },
     "execution_count": 11,
     "metadata": {},
     "output_type": "execute_result"
    }
   ],
   "source": [
    "len(distincts) - distincts['title'].isnull().sum()"
   ]
  },
  {
   "cell_type": "markdown",
   "metadata": {},
   "source": [
    "Las filas que no coinciden entre app_name y title se deben eliminar ya que son datos inconsistentes y no se puede determinar el nombre del juego. Existen más de 2000 valores nulos en la columna title y 555 que no coinciden con la columna app_name que sí está completa. Visualizando el contenido se puede observar que la diferencia se encientra en el caracter & que en la columna app_name se muestra normalmente mientras que en la columna title se muestra $amp;"
   ]
  },
  {
   "cell_type": "code",
   "execution_count": 12,
   "metadata": {},
   "outputs": [
    {
     "data": {
      "text/html": [
       "<div>\n",
       "<style scoped>\n",
       "    .dataframe tbody tr th:only-of-type {\n",
       "        vertical-align: middle;\n",
       "    }\n",
       "\n",
       "    .dataframe tbody tr th {\n",
       "        vertical-align: top;\n",
       "    }\n",
       "\n",
       "    .dataframe thead th {\n",
       "        text-align: right;\n",
       "    }\n",
       "</style>\n",
       "<table border=\"1\" class=\"dataframe\">\n",
       "  <thead>\n",
       "    <tr style=\"text-align: right;\">\n",
       "      <th></th>\n",
       "      <th>publisher</th>\n",
       "      <th>genres</th>\n",
       "      <th>app_name</th>\n",
       "      <th>title</th>\n",
       "      <th>url</th>\n",
       "      <th>release_date</th>\n",
       "      <th>tags</th>\n",
       "      <th>reviews_url</th>\n",
       "      <th>specs</th>\n",
       "      <th>price</th>\n",
       "      <th>early_access</th>\n",
       "      <th>id</th>\n",
       "      <th>developer</th>\n",
       "    </tr>\n",
       "  </thead>\n",
       "  <tbody>\n",
       "    <tr>\n",
       "      <th>88390</th>\n",
       "      <td>Telltale Games</td>\n",
       "      <td>[Action, Adventure]</td>\n",
       "      <td>Sam &amp; Max 101: Culture Shock</td>\n",
       "      <td>Sam &amp;amp; Max 101: Culture Shock</td>\n",
       "      <td>http://store.steampowered.com/app/8200/Sam__Ma...</td>\n",
       "      <td>2006-10-17</td>\n",
       "      <td>[Point &amp; Click, Comedy, Adventure, Detective, ...</td>\n",
       "      <td>http://steamcommunity.com/app/8200/reviews/?br...</td>\n",
       "      <td>[Single-player]</td>\n",
       "      <td>19.99</td>\n",
       "      <td>0.0</td>\n",
       "      <td>8200.0</td>\n",
       "      <td>Telltale Games</td>\n",
       "    </tr>\n",
       "    <tr>\n",
       "      <th>88393</th>\n",
       "      <td>Telltale Games</td>\n",
       "      <td>[Action, Adventure]</td>\n",
       "      <td>Sam &amp; Max 102: Situation: Comedy</td>\n",
       "      <td>Sam &amp;amp; Max 102: Situation: Comedy</td>\n",
       "      <td>http://store.steampowered.com/app/8210/Sam__Ma...</td>\n",
       "      <td>2006-12-20</td>\n",
       "      <td>[Adventure, Action]</td>\n",
       "      <td>http://steamcommunity.com/app/8210/reviews/?br...</td>\n",
       "      <td>[Single-player]</td>\n",
       "      <td>19.99</td>\n",
       "      <td>0.0</td>\n",
       "      <td>8210.0</td>\n",
       "      <td>Telltale Games</td>\n",
       "    </tr>\n",
       "    <tr>\n",
       "      <th>88419</th>\n",
       "      <td>Electronic Arts</td>\n",
       "      <td>[Strategy]</td>\n",
       "      <td>Command &amp; Conquer: Red Alert 3</td>\n",
       "      <td>Command &amp;amp; Conquer: Red Alert 3</td>\n",
       "      <td>http://store.steampowered.com/app/17480/Comman...</td>\n",
       "      <td>2008-10-28</td>\n",
       "      <td>[Strategy, RTS, Base Building, Multiplayer, Co...</td>\n",
       "      <td>http://steamcommunity.com/app/17480/reviews/?b...</td>\n",
       "      <td>[Single-player]</td>\n",
       "      <td>19.99</td>\n",
       "      <td>0.0</td>\n",
       "      <td>17480.0</td>\n",
       "      <td>EA Los Angeles</td>\n",
       "    </tr>\n",
       "  </tbody>\n",
       "</table>\n",
       "</div>"
      ],
      "text/plain": [
       "             publisher               genres                          app_name  \\\n",
       "88390   Telltale Games  [Action, Adventure]      Sam & Max 101: Culture Shock   \n",
       "88393   Telltale Games  [Action, Adventure]  Sam & Max 102: Situation: Comedy   \n",
       "88419  Electronic Arts           [Strategy]    Command & Conquer: Red Alert 3   \n",
       "\n",
       "                                      title  \\\n",
       "88390      Sam &amp; Max 101: Culture Shock   \n",
       "88393  Sam &amp; Max 102: Situation: Comedy   \n",
       "88419    Command &amp; Conquer: Red Alert 3   \n",
       "\n",
       "                                                     url release_date  \\\n",
       "88390  http://store.steampowered.com/app/8200/Sam__Ma...   2006-10-17   \n",
       "88393  http://store.steampowered.com/app/8210/Sam__Ma...   2006-12-20   \n",
       "88419  http://store.steampowered.com/app/17480/Comman...   2008-10-28   \n",
       "\n",
       "                                                    tags  \\\n",
       "88390  [Point & Click, Comedy, Adventure, Detective, ...   \n",
       "88393                                [Adventure, Action]   \n",
       "88419  [Strategy, RTS, Base Building, Multiplayer, Co...   \n",
       "\n",
       "                                             reviews_url            specs  \\\n",
       "88390  http://steamcommunity.com/app/8200/reviews/?br...  [Single-player]   \n",
       "88393  http://steamcommunity.com/app/8210/reviews/?br...  [Single-player]   \n",
       "88419  http://steamcommunity.com/app/17480/reviews/?b...  [Single-player]   \n",
       "\n",
       "       price  early_access       id       developer  \n",
       "88390  19.99           0.0   8200.0  Telltale Games  \n",
       "88393  19.99           0.0   8210.0  Telltale Games  \n",
       "88419  19.99           0.0  17480.0  EA Los Angeles  "
      ]
     },
     "execution_count": 12,
     "metadata": {},
     "output_type": "execute_result"
    }
   ],
   "source": [
    "filtered = distincts[distincts['title'].notnull()]\n",
    "filtered.head(3)"
   ]
  },
  {
   "cell_type": "markdown",
   "metadata": {},
   "source": [
    "#### Eliminar columnas innecesarias reordenándolas:"
   ]
  },
  {
   "cell_type": "code",
   "execution_count": 13,
   "metadata": {},
   "outputs": [],
   "source": [
    "# Se listan las listas a cnservar de manera ordenada y se filtran\n",
    "cols = ['id', \n",
    "        'app_name', \n",
    "        'genres', \n",
    "        'tags', \n",
    "        'specs', \n",
    "        'url', \n",
    "        'reviews_url', \n",
    "        'price',  \n",
    "        'release_date', \n",
    "        'developer', \n",
    "        'publisher']\n",
    "\n",
    "df_games = df_clean[cols]"
   ]
  },
  {
   "cell_type": "code",
   "execution_count": 14,
   "metadata": {},
   "outputs": [
    {
     "data": {
      "text/html": [
       "<div>\n",
       "<style scoped>\n",
       "    .dataframe tbody tr th:only-of-type {\n",
       "        vertical-align: middle;\n",
       "    }\n",
       "\n",
       "    .dataframe tbody tr th {\n",
       "        vertical-align: top;\n",
       "    }\n",
       "\n",
       "    .dataframe thead th {\n",
       "        text-align: right;\n",
       "    }\n",
       "</style>\n",
       "<table border=\"1\" class=\"dataframe\">\n",
       "  <thead>\n",
       "    <tr style=\"text-align: right;\">\n",
       "      <th></th>\n",
       "      <th>id</th>\n",
       "      <th>app_name</th>\n",
       "      <th>genres</th>\n",
       "      <th>tags</th>\n",
       "      <th>specs</th>\n",
       "      <th>url</th>\n",
       "      <th>reviews_url</th>\n",
       "      <th>price</th>\n",
       "      <th>release_date</th>\n",
       "      <th>developer</th>\n",
       "      <th>publisher</th>\n",
       "    </tr>\n",
       "  </thead>\n",
       "  <tbody>\n",
       "    <tr>\n",
       "      <th>88310</th>\n",
       "      <td>761140.0</td>\n",
       "      <td>Lost Summoner Kitty</td>\n",
       "      <td>[Action, Casual, Indie, Simulation, Strategy]</td>\n",
       "      <td>[Strategy, Action, Indie, Casual, Simulation]</td>\n",
       "      <td>[Single-player]</td>\n",
       "      <td>http://store.steampowered.com/app/761140/Lost_...</td>\n",
       "      <td>http://steamcommunity.com/app/761140/reviews/?...</td>\n",
       "      <td>4.99</td>\n",
       "      <td>2018-01-04</td>\n",
       "      <td>Kotoshiro</td>\n",
       "      <td>Kotoshiro</td>\n",
       "    </tr>\n",
       "    <tr>\n",
       "      <th>88311</th>\n",
       "      <td>643980.0</td>\n",
       "      <td>Ironbound</td>\n",
       "      <td>[Free to Play, Indie, RPG, Strategy]</td>\n",
       "      <td>[Free to Play, Strategy, Indie, RPG, Card Game...</td>\n",
       "      <td>[Single-player, Multi-player, Online Multi-Pla...</td>\n",
       "      <td>http://store.steampowered.com/app/643980/Ironb...</td>\n",
       "      <td>http://steamcommunity.com/app/643980/reviews/?...</td>\n",
       "      <td>Free To Play</td>\n",
       "      <td>2018-01-04</td>\n",
       "      <td>Secret Level SRL</td>\n",
       "      <td>Making Fun, Inc.</td>\n",
       "    </tr>\n",
       "    <tr>\n",
       "      <th>88312</th>\n",
       "      <td>670290.0</td>\n",
       "      <td>Real Pool 3D - Poolians</td>\n",
       "      <td>[Casual, Free to Play, Indie, Simulation, Sports]</td>\n",
       "      <td>[Free to Play, Simulation, Sports, Casual, Ind...</td>\n",
       "      <td>[Single-player, Multi-player, Online Multi-Pla...</td>\n",
       "      <td>http://store.steampowered.com/app/670290/Real_...</td>\n",
       "      <td>http://steamcommunity.com/app/670290/reviews/?...</td>\n",
       "      <td>Free to Play</td>\n",
       "      <td>2017-07-24</td>\n",
       "      <td>Poolians.com</td>\n",
       "      <td>Poolians.com</td>\n",
       "    </tr>\n",
       "  </tbody>\n",
       "</table>\n",
       "</div>"
      ],
      "text/plain": [
       "             id                 app_name  \\\n",
       "88310  761140.0      Lost Summoner Kitty   \n",
       "88311  643980.0                Ironbound   \n",
       "88312  670290.0  Real Pool 3D - Poolians   \n",
       "\n",
       "                                                  genres  \\\n",
       "88310      [Action, Casual, Indie, Simulation, Strategy]   \n",
       "88311               [Free to Play, Indie, RPG, Strategy]   \n",
       "88312  [Casual, Free to Play, Indie, Simulation, Sports]   \n",
       "\n",
       "                                                    tags  \\\n",
       "88310      [Strategy, Action, Indie, Casual, Simulation]   \n",
       "88311  [Free to Play, Strategy, Indie, RPG, Card Game...   \n",
       "88312  [Free to Play, Simulation, Sports, Casual, Ind...   \n",
       "\n",
       "                                                   specs  \\\n",
       "88310                                    [Single-player]   \n",
       "88311  [Single-player, Multi-player, Online Multi-Pla...   \n",
       "88312  [Single-player, Multi-player, Online Multi-Pla...   \n",
       "\n",
       "                                                     url  \\\n",
       "88310  http://store.steampowered.com/app/761140/Lost_...   \n",
       "88311  http://store.steampowered.com/app/643980/Ironb...   \n",
       "88312  http://store.steampowered.com/app/670290/Real_...   \n",
       "\n",
       "                                             reviews_url         price  \\\n",
       "88310  http://steamcommunity.com/app/761140/reviews/?...          4.99   \n",
       "88311  http://steamcommunity.com/app/643980/reviews/?...  Free To Play   \n",
       "88312  http://steamcommunity.com/app/670290/reviews/?...  Free to Play   \n",
       "\n",
       "      release_date         developer         publisher  \n",
       "88310   2018-01-04         Kotoshiro         Kotoshiro  \n",
       "88311   2018-01-04  Secret Level SRL  Making Fun, Inc.  \n",
       "88312   2017-07-24      Poolians.com      Poolians.com  "
      ]
     },
     "execution_count": 14,
     "metadata": {},
     "output_type": "execute_result"
    }
   ],
   "source": [
    "df_games.head(3)"
   ]
  },
  {
   "cell_type": "markdown",
   "metadata": {},
   "source": [
    "#### Imputar valores nulos:"
   ]
  },
  {
   "cell_type": "code",
   "execution_count": 15,
   "metadata": {},
   "outputs": [
    {
     "data": {
      "text/plain": [
       "id                 1\n",
       "app_name           0\n",
       "genres          3282\n",
       "tags             162\n",
       "specs            669\n",
       "url                0\n",
       "reviews_url        1\n",
       "price           1376\n",
       "release_date    2066\n",
       "developer       3297\n",
       "publisher       8050\n",
       "dtype: int64"
      ]
     },
     "execution_count": 15,
     "metadata": {},
     "output_type": "execute_result"
    }
   ],
   "source": [
    "df_games.isnull().sum()"
   ]
  },
  {
   "cell_type": "markdown",
   "metadata": {},
   "source": [
    "Las columnas genres y tags tienen datos similares por lo que pueden usarse para rellenar valores nulos."
   ]
  },
  {
   "cell_type": "code",
   "execution_count": 16,
   "metadata": {},
   "outputs": [
    {
     "data": {
      "text/plain": [
       "np.int64(138)"
      ]
     },
     "execution_count": 16,
     "metadata": {},
     "output_type": "execute_result"
    }
   ],
   "source": [
    "df_games['genres'].fillna(df_games['tags'], inplace=True)\n",
    "df_games['genres'].isnull().sum()"
   ]
  },
  {
   "cell_type": "markdown",
   "metadata": {},
   "source": [
    "Las columnas developer y publisher suelen coincidir en algunos casos, por lo que pueden usarse para rellenar valores nulos."
   ]
  },
  {
   "cell_type": "code",
   "execution_count": 17,
   "metadata": {},
   "outputs": [
    {
     "data": {
      "text/plain": [
       "np.int64(3232)"
      ]
     },
     "execution_count": 17,
     "metadata": {},
     "output_type": "execute_result"
    }
   ],
   "source": [
    "df_games['developer'].fillna(df_games['publisher'], inplace=True)\n",
    "df_games['developer'].isnull().sum()"
   ]
  },
  {
   "cell_type": "markdown",
   "metadata": {},
   "source": [
    "#### Imputar columna price en caso de existir el valor 'Free to Play' en genres o tags"
   ]
  },
  {
   "cell_type": "code",
   "execution_count": 18,
   "metadata": {},
   "outputs": [],
   "source": [
    "df_games['price'] = df_games.apply(lambda row: 'Free to Play' if isinstance(row['tags'], list) and 'Free to Play' in row['tags'] and pd.isna(row['price']) else row['price'], axis=1)"
   ]
  },
  {
   "cell_type": "code",
   "execution_count": 19,
   "metadata": {},
   "outputs": [],
   "source": [
    "df_games['price'] = df_games.apply(lambda row: 0 if isinstance(row['genres'], list) and 'Free to Play' in row['genres'] and pd.isna(row['price']) else row['price'], axis=1)"
   ]
  },
  {
   "cell_type": "code",
   "execution_count": 20,
   "metadata": {},
   "outputs": [
    {
     "data": {
      "text/plain": [
       "np.int64(1171)"
      ]
     },
     "execution_count": 20,
     "metadata": {},
     "output_type": "execute_result"
    }
   ],
   "source": [
    "df_games['price'].isnull().sum()"
   ]
  },
  {
   "cell_type": "markdown",
   "metadata": {},
   "source": [
    "Verificar id nulo"
   ]
  },
  {
   "cell_type": "code",
   "execution_count": 21,
   "metadata": {},
   "outputs": [
    {
     "data": {
      "text/html": [
       "<div>\n",
       "<style scoped>\n",
       "    .dataframe tbody tr th:only-of-type {\n",
       "        vertical-align: middle;\n",
       "    }\n",
       "\n",
       "    .dataframe tbody tr th {\n",
       "        vertical-align: top;\n",
       "    }\n",
       "\n",
       "    .dataframe thead th {\n",
       "        text-align: right;\n",
       "    }\n",
       "</style>\n",
       "<table border=\"1\" class=\"dataframe\">\n",
       "  <thead>\n",
       "    <tr style=\"text-align: right;\">\n",
       "      <th></th>\n",
       "      <th>id</th>\n",
       "      <th>app_name</th>\n",
       "      <th>genres</th>\n",
       "      <th>tags</th>\n",
       "      <th>specs</th>\n",
       "      <th>url</th>\n",
       "      <th>reviews_url</th>\n",
       "      <th>price</th>\n",
       "      <th>release_date</th>\n",
       "      <th>developer</th>\n",
       "      <th>publisher</th>\n",
       "    </tr>\n",
       "  </thead>\n",
       "  <tbody>\n",
       "    <tr>\n",
       "      <th>119271</th>\n",
       "      <td>NaN</td>\n",
       "      <td>Batman: Arkham City - Game of the Year Edition</td>\n",
       "      <td>[Action, Adventure]</td>\n",
       "      <td>[Action, Open World, Batman, Adventure, Stealt...</td>\n",
       "      <td>[Single-player, Steam Achievements, Steam Trad...</td>\n",
       "      <td>http://store.steampowered.com/app/200260</td>\n",
       "      <td>None</td>\n",
       "      <td>19.99</td>\n",
       "      <td>2012-09-07</td>\n",
       "      <td>Rocksteady Studios,Feral Interactive (Mac)</td>\n",
       "      <td>Warner Bros. Interactive Entertainment, Feral ...</td>\n",
       "    </tr>\n",
       "  </tbody>\n",
       "</table>\n",
       "</div>"
      ],
      "text/plain": [
       "        id                                        app_name  \\\n",
       "119271 NaN  Batman: Arkham City - Game of the Year Edition   \n",
       "\n",
       "                     genres  \\\n",
       "119271  [Action, Adventure]   \n",
       "\n",
       "                                                     tags  \\\n",
       "119271  [Action, Open World, Batman, Adventure, Stealt...   \n",
       "\n",
       "                                                    specs  \\\n",
       "119271  [Single-player, Steam Achievements, Steam Trad...   \n",
       "\n",
       "                                             url reviews_url  price  \\\n",
       "119271  http://store.steampowered.com/app/200260        None  19.99   \n",
       "\n",
       "       release_date                                   developer  \\\n",
       "119271   2012-09-07  Rocksteady Studios,Feral Interactive (Mac)   \n",
       "\n",
       "                                                publisher  \n",
       "119271  Warner Bros. Interactive Entertainment, Feral ...  "
      ]
     },
     "execution_count": 21,
     "metadata": {},
     "output_type": "execute_result"
    }
   ],
   "source": [
    "df_games[df_games['id'].isnull()]"
   ]
  },
  {
   "cell_type": "code",
   "execution_count": 22,
   "metadata": {},
   "outputs": [
    {
     "data": {
      "text/html": [
       "<div>\n",
       "<style scoped>\n",
       "    .dataframe tbody tr th:only-of-type {\n",
       "        vertical-align: middle;\n",
       "    }\n",
       "\n",
       "    .dataframe tbody tr th {\n",
       "        vertical-align: top;\n",
       "    }\n",
       "\n",
       "    .dataframe thead th {\n",
       "        text-align: right;\n",
       "    }\n",
       "</style>\n",
       "<table border=\"1\" class=\"dataframe\">\n",
       "  <thead>\n",
       "    <tr style=\"text-align: right;\">\n",
       "      <th></th>\n",
       "      <th>id</th>\n",
       "      <th>app_name</th>\n",
       "      <th>genres</th>\n",
       "      <th>tags</th>\n",
       "      <th>specs</th>\n",
       "      <th>url</th>\n",
       "      <th>reviews_url</th>\n",
       "      <th>price</th>\n",
       "      <th>release_date</th>\n",
       "      <th>developer</th>\n",
       "      <th>publisher</th>\n",
       "    </tr>\n",
       "  </thead>\n",
       "  <tbody>\n",
       "    <tr>\n",
       "      <th>89378</th>\n",
       "      <td>200260.0</td>\n",
       "      <td>Batman: Arkham City - Game of the Year Edition</td>\n",
       "      <td>[Action, Adventure]</td>\n",
       "      <td>[Action, Open World, Batman, Adventure, Stealt...</td>\n",
       "      <td>[Single-player, Steam Achievements, Steam Trad...</td>\n",
       "      <td>http://store.steampowered.com/app/200260/Batma...</td>\n",
       "      <td>http://steamcommunity.com/app/200260/reviews/?...</td>\n",
       "      <td>19.99</td>\n",
       "      <td>2012-09-07</td>\n",
       "      <td>Rocksteady Studios,Feral Interactive (Mac)</td>\n",
       "      <td>Warner Bros. Interactive Entertainment, Feral ...</td>\n",
       "    </tr>\n",
       "  </tbody>\n",
       "</table>\n",
       "</div>"
      ],
      "text/plain": [
       "             id                                        app_name  \\\n",
       "89378  200260.0  Batman: Arkham City - Game of the Year Edition   \n",
       "\n",
       "                    genres                                               tags  \\\n",
       "89378  [Action, Adventure]  [Action, Open World, Batman, Adventure, Stealt...   \n",
       "\n",
       "                                                   specs  \\\n",
       "89378  [Single-player, Steam Achievements, Steam Trad...   \n",
       "\n",
       "                                                     url  \\\n",
       "89378  http://store.steampowered.com/app/200260/Batma...   \n",
       "\n",
       "                                             reviews_url  price release_date  \\\n",
       "89378  http://steamcommunity.com/app/200260/reviews/?...  19.99   2012-09-07   \n",
       "\n",
       "                                        developer  \\\n",
       "89378  Rocksteady Studios,Feral Interactive (Mac)   \n",
       "\n",
       "                                               publisher  \n",
       "89378  Warner Bros. Interactive Entertainment, Feral ...  "
      ]
     },
     "execution_count": 22,
     "metadata": {},
     "output_type": "execute_result"
    }
   ],
   "source": [
    "df_games[df_games['id'] == 200260]\n"
   ]
  },
  {
   "cell_type": "markdown",
   "metadata": {},
   "source": [
    "#### Conversión de datos numéricos"
   ]
  },
  {
   "cell_type": "code",
   "execution_count": 23,
   "metadata": {},
   "outputs": [
    {
     "data": {
      "text/plain": [
       "dtype('int64')"
      ]
     },
     "execution_count": 23,
     "metadata": {},
     "output_type": "execute_result"
    }
   ],
   "source": [
    "df_games = df_games.dropna(subset='id')\n",
    "df_games['id'] = df_games['id'].astype('int64')\n",
    "df_games['id'].dtype"
   ]
  },
  {
   "cell_type": "markdown",
   "metadata": {},
   "source": [
    "#### Se crea un DataFrame con las URLs de los juegos y las reviews\n",
    "- Las URLs de los juegos pueden necesitarse para mejorar el sistema recomendando las páginas de los juegos.\n",
    "- Las URLs de las reviews pueden utilizarse a futuro para Web Scraping"
   ]
  },
  {
   "cell_type": "code",
   "execution_count": 24,
   "metadata": {},
   "outputs": [],
   "source": [
    "games_urls = df_games[['id', 'url', 'reviews_url']]"
   ]
  },
  {
   "cell_type": "markdown",
   "metadata": {},
   "source": [
    "Eliminar columnas tags, publisher, url y url_reviews"
   ]
  },
  {
   "cell_type": "code",
   "execution_count": 25,
   "metadata": {},
   "outputs": [],
   "source": [
    "df_steam = df_games.drop(columns=['tags', 'publisher', 'url', 'reviews_url'])"
   ]
  },
  {
   "cell_type": "code",
   "execution_count": 26,
   "metadata": {},
   "outputs": [
    {
     "data": {
      "text/html": [
       "<div>\n",
       "<style scoped>\n",
       "    .dataframe tbody tr th:only-of-type {\n",
       "        vertical-align: middle;\n",
       "    }\n",
       "\n",
       "    .dataframe tbody tr th {\n",
       "        vertical-align: top;\n",
       "    }\n",
       "\n",
       "    .dataframe thead th {\n",
       "        text-align: right;\n",
       "    }\n",
       "</style>\n",
       "<table border=\"1\" class=\"dataframe\">\n",
       "  <thead>\n",
       "    <tr style=\"text-align: right;\">\n",
       "      <th></th>\n",
       "      <th>id</th>\n",
       "      <th>app_name</th>\n",
       "      <th>genres</th>\n",
       "      <th>specs</th>\n",
       "      <th>price</th>\n",
       "      <th>release_date</th>\n",
       "      <th>developer</th>\n",
       "    </tr>\n",
       "  </thead>\n",
       "  <tbody>\n",
       "    <tr>\n",
       "      <th>88310</th>\n",
       "      <td>761140</td>\n",
       "      <td>Lost Summoner Kitty</td>\n",
       "      <td>[Action, Casual, Indie, Simulation, Strategy]</td>\n",
       "      <td>[Single-player]</td>\n",
       "      <td>4.99</td>\n",
       "      <td>2018-01-04</td>\n",
       "      <td>Kotoshiro</td>\n",
       "    </tr>\n",
       "    <tr>\n",
       "      <th>88311</th>\n",
       "      <td>643980</td>\n",
       "      <td>Ironbound</td>\n",
       "      <td>[Free to Play, Indie, RPG, Strategy]</td>\n",
       "      <td>[Single-player, Multi-player, Online Multi-Pla...</td>\n",
       "      <td>Free To Play</td>\n",
       "      <td>2018-01-04</td>\n",
       "      <td>Secret Level SRL</td>\n",
       "    </tr>\n",
       "    <tr>\n",
       "      <th>88312</th>\n",
       "      <td>670290</td>\n",
       "      <td>Real Pool 3D - Poolians</td>\n",
       "      <td>[Casual, Free to Play, Indie, Simulation, Sports]</td>\n",
       "      <td>[Single-player, Multi-player, Online Multi-Pla...</td>\n",
       "      <td>Free to Play</td>\n",
       "      <td>2017-07-24</td>\n",
       "      <td>Poolians.com</td>\n",
       "    </tr>\n",
       "  </tbody>\n",
       "</table>\n",
       "</div>"
      ],
      "text/plain": [
       "           id                 app_name  \\\n",
       "88310  761140      Lost Summoner Kitty   \n",
       "88311  643980                Ironbound   \n",
       "88312  670290  Real Pool 3D - Poolians   \n",
       "\n",
       "                                                  genres  \\\n",
       "88310      [Action, Casual, Indie, Simulation, Strategy]   \n",
       "88311               [Free to Play, Indie, RPG, Strategy]   \n",
       "88312  [Casual, Free to Play, Indie, Simulation, Sports]   \n",
       "\n",
       "                                                   specs         price  \\\n",
       "88310                                    [Single-player]          4.99   \n",
       "88311  [Single-player, Multi-player, Online Multi-Pla...  Free To Play   \n",
       "88312  [Single-player, Multi-player, Online Multi-Pla...  Free to Play   \n",
       "\n",
       "      release_date         developer  \n",
       "88310   2018-01-04         Kotoshiro  \n",
       "88311   2018-01-04  Secret Level SRL  \n",
       "88312   2017-07-24      Poolians.com  "
      ]
     },
     "execution_count": 26,
     "metadata": {},
     "output_type": "execute_result"
    }
   ],
   "source": [
    "df_steam.head(3)"
   ]
  },
  {
   "cell_type": "markdown",
   "metadata": {},
   "source": [
    "Comprobar tipos de datos"
   ]
  },
  {
   "cell_type": "code",
   "execution_count": 27,
   "metadata": {},
   "outputs": [
    {
     "name": "stdout",
     "output_type": "stream",
     "text": [
      "id int64\n",
      "app_name object\n",
      "genres object\n",
      "specs object\n",
      "price object\n",
      "release_date object\n",
      "developer object\n"
     ]
    },
    {
     "data": {
      "text/plain": [
       "[None, None, None, None, None, None, None]"
      ]
     },
     "execution_count": 27,
     "metadata": {},
     "output_type": "execute_result"
    }
   ],
   "source": [
    "[print(c, df_steam[c].dtype) for c in df_steam.columns]"
   ]
  },
  {
   "cell_type": "markdown",
   "metadata": {},
   "source": [
    "#### Convertir los demás datos"
   ]
  },
  {
   "cell_type": "code",
   "execution_count": 28,
   "metadata": {},
   "outputs": [
    {
     "name": "stdout",
     "output_type": "stream",
     "text": [
      "id int64\n",
      "app_name object\n",
      "genres object\n",
      "specs object\n",
      "price object\n",
      "release_date object\n",
      "developer object\n"
     ]
    },
    {
     "data": {
      "text/plain": [
       "[None, None, None, None, None, None, None]"
      ]
     },
     "execution_count": 28,
     "metadata": {},
     "output_type": "execute_result"
    }
   ],
   "source": [
    "#se convierten los textos a formato str\n",
    "df_steam = df_steam.astype({'app_name': 'str', 'specs': 'str', 'price': 'str', 'developer': 'str'})\n",
    "[print(c, df_steam[c].dtype) for c in df_steam.columns]"
   ]
  },
  {
   "cell_type": "code",
   "execution_count": 29,
   "metadata": {},
   "outputs": [],
   "source": [
    "# Función para eliminar \"Free to Play\" de los géneros\n",
    "def delete_free_to_play(genres):\n",
    "    '''\n",
    "    Elimina el str \"Free to Play\" en ambos casos, si está un string, lista o array\n",
    "    '''\n",
    "    # Si el valor es None o NaN, devolverlo sin cambios\n",
    "    if genres is None or pd.isna(genres).all():\n",
    "        return genres\n",
    "\n",
    "    # Si genres es una lista o array\n",
    "    if isinstance(genres, (list, np.ndarray)):\n",
    "        # Filtrar \"Free to Play\" de la lista\n",
    "        return [genre for genre in genres if genre != \"Free to Play\"]\n",
    "\n",
    "    # Si genres es una cadena, dividirla en una lista\n",
    "    if isinstance(genres, str):\n",
    "        genres_list = genres.split(\",\")\n",
    "        # Eliminar \"Free to Play\" de la lista y unir de nuevo\n",
    "        genres_list = [genre.strip() for genre in genres_list if genre != \"Free to Play\"]\n",
    "        return \", \".join(genres_list)\n",
    "\n",
    "    # Devolver el valor sin cambios si no coincide con los tipos anteriores\n",
    "    return genres"
   ]
  },
  {
   "cell_type": "code",
   "execution_count": 30,
   "metadata": {},
   "outputs": [
    {
     "data": {
      "text/html": [
       "<div>\n",
       "<style scoped>\n",
       "    .dataframe tbody tr th:only-of-type {\n",
       "        vertical-align: middle;\n",
       "    }\n",
       "\n",
       "    .dataframe tbody tr th {\n",
       "        vertical-align: top;\n",
       "    }\n",
       "\n",
       "    .dataframe thead th {\n",
       "        text-align: right;\n",
       "    }\n",
       "</style>\n",
       "<table border=\"1\" class=\"dataframe\">\n",
       "  <thead>\n",
       "    <tr style=\"text-align: right;\">\n",
       "      <th></th>\n",
       "      <th>id</th>\n",
       "      <th>app_name</th>\n",
       "      <th>genres</th>\n",
       "      <th>specs</th>\n",
       "      <th>price</th>\n",
       "      <th>release_date</th>\n",
       "      <th>developer</th>\n",
       "    </tr>\n",
       "  </thead>\n",
       "  <tbody>\n",
       "    <tr>\n",
       "      <th>88310</th>\n",
       "      <td>761140</td>\n",
       "      <td>Lost Summoner Kitty</td>\n",
       "      <td>[Action, Casual, Indie, Simulation, Strategy]</td>\n",
       "      <td>['Single-player']</td>\n",
       "      <td>4.99</td>\n",
       "      <td>2018-01-04</td>\n",
       "      <td>Kotoshiro</td>\n",
       "    </tr>\n",
       "    <tr>\n",
       "      <th>88311</th>\n",
       "      <td>643980</td>\n",
       "      <td>Ironbound</td>\n",
       "      <td>[Indie, RPG, Strategy]</td>\n",
       "      <td>['Single-player', 'Multi-player', 'Online Mult...</td>\n",
       "      <td>Free To Play</td>\n",
       "      <td>2018-01-04</td>\n",
       "      <td>Secret Level SRL</td>\n",
       "    </tr>\n",
       "    <tr>\n",
       "      <th>88312</th>\n",
       "      <td>670290</td>\n",
       "      <td>Real Pool 3D - Poolians</td>\n",
       "      <td>[Casual, Indie, Simulation, Sports]</td>\n",
       "      <td>['Single-player', 'Multi-player', 'Online Mult...</td>\n",
       "      <td>Free to Play</td>\n",
       "      <td>2017-07-24</td>\n",
       "      <td>Poolians.com</td>\n",
       "    </tr>\n",
       "  </tbody>\n",
       "</table>\n",
       "</div>"
      ],
      "text/plain": [
       "           id                 app_name  \\\n",
       "88310  761140      Lost Summoner Kitty   \n",
       "88311  643980                Ironbound   \n",
       "88312  670290  Real Pool 3D - Poolians   \n",
       "\n",
       "                                              genres  \\\n",
       "88310  [Action, Casual, Indie, Simulation, Strategy]   \n",
       "88311                         [Indie, RPG, Strategy]   \n",
       "88312            [Casual, Indie, Simulation, Sports]   \n",
       "\n",
       "                                                   specs         price  \\\n",
       "88310                                  ['Single-player']          4.99   \n",
       "88311  ['Single-player', 'Multi-player', 'Online Mult...  Free To Play   \n",
       "88312  ['Single-player', 'Multi-player', 'Online Mult...  Free to Play   \n",
       "\n",
       "      release_date         developer  \n",
       "88310   2018-01-04         Kotoshiro  \n",
       "88311   2018-01-04  Secret Level SRL  \n",
       "88312   2017-07-24      Poolians.com  "
      ]
     },
     "execution_count": 30,
     "metadata": {},
     "output_type": "execute_result"
    }
   ],
   "source": [
    "df_steam['genres'] = df_steam['genres'].apply(delete_free_to_play)\n",
    "df_steam.head(3)"
   ]
  },
  {
   "cell_type": "code",
   "execution_count": 31,
   "metadata": {},
   "outputs": [],
   "source": [
    "# Definir función para manejar los precios\n",
    "# si incluyen la palabra Free, el precio se configura en 0\n",
    "def handle_price(price):\n",
    "    '''\n",
    "    Si el precio contiene la palabra Free o free retorna 0.0,\n",
    "    sino, intenta convertirlo a float y, en caso de no poder, retorna NaN\n",
    "    '''\n",
    "    if 'Free' in price or 'free' in price: \n",
    "        return 0.0\n",
    "    # Si no contiene la palabra Free, intenta convertirlo a float y, en caso de no poder, retorna NaN\n",
    "    try:\n",
    "        return float(price)\n",
    "    except ValueError:\n",
    "        return np.nan"
   ]
  },
  {
   "cell_type": "code",
   "execution_count": 32,
   "metadata": {},
   "outputs": [
    {
     "data": {
      "text/plain": [
       "dtype('float64')"
      ]
     },
     "execution_count": 32,
     "metadata": {},
     "output_type": "execute_result"
    }
   ],
   "source": [
    "# se cambian los valores que implican Free to Play a Free\n",
    "df_steam['price'] = df_steam['price'].apply(handle_price)\n",
    "# verificar tipo de dato de la columna price\n",
    "\n",
    "df_steam['price'].dtype"
   ]
  },
  {
   "cell_type": "code",
   "execution_count": 33,
   "metadata": {},
   "outputs": [
    {
     "data": {
      "text/html": [
       "<div>\n",
       "<style scoped>\n",
       "    .dataframe tbody tr th:only-of-type {\n",
       "        vertical-align: middle;\n",
       "    }\n",
       "\n",
       "    .dataframe tbody tr th {\n",
       "        vertical-align: top;\n",
       "    }\n",
       "\n",
       "    .dataframe thead th {\n",
       "        text-align: right;\n",
       "    }\n",
       "</style>\n",
       "<table border=\"1\" class=\"dataframe\">\n",
       "  <thead>\n",
       "    <tr style=\"text-align: right;\">\n",
       "      <th></th>\n",
       "      <th>id</th>\n",
       "      <th>app_name</th>\n",
       "      <th>genres</th>\n",
       "      <th>specs</th>\n",
       "      <th>price</th>\n",
       "      <th>release_date</th>\n",
       "      <th>developer</th>\n",
       "    </tr>\n",
       "  </thead>\n",
       "  <tbody>\n",
       "    <tr>\n",
       "      <th>88310</th>\n",
       "      <td>761140</td>\n",
       "      <td>Lost Summoner Kitty</td>\n",
       "      <td>[Action, Casual, Indie, Simulation, Strategy]</td>\n",
       "      <td>['Single-player']</td>\n",
       "      <td>4.99</td>\n",
       "      <td>2018-01-04</td>\n",
       "      <td>Kotoshiro</td>\n",
       "    </tr>\n",
       "    <tr>\n",
       "      <th>88311</th>\n",
       "      <td>643980</td>\n",
       "      <td>Ironbound</td>\n",
       "      <td>[Indie, RPG, Strategy]</td>\n",
       "      <td>['Single-player', 'Multi-player', 'Online Mult...</td>\n",
       "      <td>0.00</td>\n",
       "      <td>2018-01-04</td>\n",
       "      <td>Secret Level SRL</td>\n",
       "    </tr>\n",
       "    <tr>\n",
       "      <th>88312</th>\n",
       "      <td>670290</td>\n",
       "      <td>Real Pool 3D - Poolians</td>\n",
       "      <td>[Casual, Indie, Simulation, Sports]</td>\n",
       "      <td>['Single-player', 'Multi-player', 'Online Mult...</td>\n",
       "      <td>0.00</td>\n",
       "      <td>2017-07-24</td>\n",
       "      <td>Poolians.com</td>\n",
       "    </tr>\n",
       "  </tbody>\n",
       "</table>\n",
       "</div>"
      ],
      "text/plain": [
       "           id                 app_name  \\\n",
       "88310  761140      Lost Summoner Kitty   \n",
       "88311  643980                Ironbound   \n",
       "88312  670290  Real Pool 3D - Poolians   \n",
       "\n",
       "                                              genres  \\\n",
       "88310  [Action, Casual, Indie, Simulation, Strategy]   \n",
       "88311                         [Indie, RPG, Strategy]   \n",
       "88312            [Casual, Indie, Simulation, Sports]   \n",
       "\n",
       "                                                   specs  price release_date  \\\n",
       "88310                                  ['Single-player']   4.99   2018-01-04   \n",
       "88311  ['Single-player', 'Multi-player', 'Online Mult...   0.00   2018-01-04   \n",
       "88312  ['Single-player', 'Multi-player', 'Online Mult...   0.00   2017-07-24   \n",
       "\n",
       "              developer  \n",
       "88310         Kotoshiro  \n",
       "88311  Secret Level SRL  \n",
       "88312      Poolians.com  "
      ]
     },
     "execution_count": 33,
     "metadata": {},
     "output_type": "execute_result"
    }
   ],
   "source": [
    "df_steam.head(3)"
   ]
  },
  {
   "cell_type": "code",
   "execution_count": 34,
   "metadata": {},
   "outputs": [
    {
     "data": {
      "text/html": [
       "<div>\n",
       "<style scoped>\n",
       "    .dataframe tbody tr th:only-of-type {\n",
       "        vertical-align: middle;\n",
       "    }\n",
       "\n",
       "    .dataframe tbody tr th {\n",
       "        vertical-align: top;\n",
       "    }\n",
       "\n",
       "    .dataframe thead th {\n",
       "        text-align: right;\n",
       "    }\n",
       "</style>\n",
       "<table border=\"1\" class=\"dataframe\">\n",
       "  <thead>\n",
       "    <tr style=\"text-align: right;\">\n",
       "      <th></th>\n",
       "      <th>id</th>\n",
       "      <th>app_name</th>\n",
       "      <th>genres</th>\n",
       "      <th>specs</th>\n",
       "      <th>price</th>\n",
       "      <th>release_date</th>\n",
       "      <th>developer</th>\n",
       "      <th>release_year</th>\n",
       "    </tr>\n",
       "  </thead>\n",
       "  <tbody>\n",
       "    <tr>\n",
       "      <th>88310</th>\n",
       "      <td>761140</td>\n",
       "      <td>Lost Summoner Kitty</td>\n",
       "      <td>[Action, Casual, Indie, Simulation, Strategy]</td>\n",
       "      <td>['Single-player']</td>\n",
       "      <td>4.99</td>\n",
       "      <td>2018-01-04</td>\n",
       "      <td>Kotoshiro</td>\n",
       "      <td>2018.0</td>\n",
       "    </tr>\n",
       "    <tr>\n",
       "      <th>88311</th>\n",
       "      <td>643980</td>\n",
       "      <td>Ironbound</td>\n",
       "      <td>[Indie, RPG, Strategy]</td>\n",
       "      <td>['Single-player', 'Multi-player', 'Online Mult...</td>\n",
       "      <td>0.00</td>\n",
       "      <td>2018-01-04</td>\n",
       "      <td>Secret Level SRL</td>\n",
       "      <td>2018.0</td>\n",
       "    </tr>\n",
       "    <tr>\n",
       "      <th>88312</th>\n",
       "      <td>670290</td>\n",
       "      <td>Real Pool 3D - Poolians</td>\n",
       "      <td>[Casual, Indie, Simulation, Sports]</td>\n",
       "      <td>['Single-player', 'Multi-player', 'Online Mult...</td>\n",
       "      <td>0.00</td>\n",
       "      <td>2017-07-24</td>\n",
       "      <td>Poolians.com</td>\n",
       "      <td>2017.0</td>\n",
       "    </tr>\n",
       "    <tr>\n",
       "      <th>88313</th>\n",
       "      <td>767400</td>\n",
       "      <td>弹炸人2222</td>\n",
       "      <td>[Action, Adventure, Casual]</td>\n",
       "      <td>['Single-player']</td>\n",
       "      <td>0.99</td>\n",
       "      <td>2017-12-07</td>\n",
       "      <td>彼岸领域</td>\n",
       "      <td>2017.0</td>\n",
       "    </tr>\n",
       "    <tr>\n",
       "      <th>88314</th>\n",
       "      <td>773570</td>\n",
       "      <td>Log Challenge</td>\n",
       "      <td>[Action, Indie, Casual, Sports]</td>\n",
       "      <td>['Single-player', 'Full controller support', '...</td>\n",
       "      <td>2.99</td>\n",
       "      <td>NaT</td>\n",
       "      <td>None</td>\n",
       "      <td>NaN</td>\n",
       "    </tr>\n",
       "  </tbody>\n",
       "</table>\n",
       "</div>"
      ],
      "text/plain": [
       "           id                 app_name  \\\n",
       "88310  761140      Lost Summoner Kitty   \n",
       "88311  643980                Ironbound   \n",
       "88312  670290  Real Pool 3D - Poolians   \n",
       "88313  767400                  弹炸人2222   \n",
       "88314  773570            Log Challenge   \n",
       "\n",
       "                                              genres  \\\n",
       "88310  [Action, Casual, Indie, Simulation, Strategy]   \n",
       "88311                         [Indie, RPG, Strategy]   \n",
       "88312            [Casual, Indie, Simulation, Sports]   \n",
       "88313                    [Action, Adventure, Casual]   \n",
       "88314                [Action, Indie, Casual, Sports]   \n",
       "\n",
       "                                                   specs  price release_date  \\\n",
       "88310                                  ['Single-player']   4.99   2018-01-04   \n",
       "88311  ['Single-player', 'Multi-player', 'Online Mult...   0.00   2018-01-04   \n",
       "88312  ['Single-player', 'Multi-player', 'Online Mult...   0.00   2017-07-24   \n",
       "88313                                  ['Single-player']   0.99   2017-12-07   \n",
       "88314  ['Single-player', 'Full controller support', '...   2.99          NaT   \n",
       "\n",
       "              developer  release_year  \n",
       "88310         Kotoshiro        2018.0  \n",
       "88311  Secret Level SRL        2018.0  \n",
       "88312      Poolians.com        2017.0  \n",
       "88313              彼岸领域        2017.0  \n",
       "88314              None           NaN  "
      ]
     },
     "execution_count": 34,
     "metadata": {},
     "output_type": "execute_result"
    }
   ],
   "source": [
    "# Convertir las fechas en diferentes formatos a un formato unificado de fecha\n",
    "df_steam['release_date'] = pd.to_datetime(df_steam['release_date'], errors='coerce')\n",
    "\n",
    "# Extraer el año de las fechas convertidas\n",
    "df_steam['release_year'] = df_steam['release_date'].dt.year\n",
    "\n",
    "# Mostrar un ejemplo de las primeras filas\n",
    "df_steam.head()"
   ]
  },
  {
   "cell_type": "code",
   "execution_count": 35,
   "metadata": {},
   "outputs": [
    {
     "data": {
      "text/html": [
       "<div>\n",
       "<style scoped>\n",
       "    .dataframe tbody tr th:only-of-type {\n",
       "        vertical-align: middle;\n",
       "    }\n",
       "\n",
       "    .dataframe tbody tr th {\n",
       "        vertical-align: top;\n",
       "    }\n",
       "\n",
       "    .dataframe thead th {\n",
       "        text-align: right;\n",
       "    }\n",
       "</style>\n",
       "<table border=\"1\" class=\"dataframe\">\n",
       "  <thead>\n",
       "    <tr style=\"text-align: right;\">\n",
       "      <th></th>\n",
       "      <th>id</th>\n",
       "      <th>app_name</th>\n",
       "      <th>genres</th>\n",
       "      <th>specs</th>\n",
       "      <th>price</th>\n",
       "      <th>developer</th>\n",
       "      <th>release_year</th>\n",
       "    </tr>\n",
       "  </thead>\n",
       "  <tbody>\n",
       "    <tr>\n",
       "      <th>88310</th>\n",
       "      <td>761140</td>\n",
       "      <td>Lost Summoner Kitty</td>\n",
       "      <td>[Action, Casual, Indie, Simulation, Strategy]</td>\n",
       "      <td>['Single-player']</td>\n",
       "      <td>4.99</td>\n",
       "      <td>Kotoshiro</td>\n",
       "      <td>2018.0</td>\n",
       "    </tr>\n",
       "    <tr>\n",
       "      <th>88311</th>\n",
       "      <td>643980</td>\n",
       "      <td>Ironbound</td>\n",
       "      <td>[Indie, RPG, Strategy]</td>\n",
       "      <td>['Single-player', 'Multi-player', 'Online Mult...</td>\n",
       "      <td>0.00</td>\n",
       "      <td>Secret Level SRL</td>\n",
       "      <td>2018.0</td>\n",
       "    </tr>\n",
       "    <tr>\n",
       "      <th>88312</th>\n",
       "      <td>670290</td>\n",
       "      <td>Real Pool 3D - Poolians</td>\n",
       "      <td>[Casual, Indie, Simulation, Sports]</td>\n",
       "      <td>['Single-player', 'Multi-player', 'Online Mult...</td>\n",
       "      <td>0.00</td>\n",
       "      <td>Poolians.com</td>\n",
       "      <td>2017.0</td>\n",
       "    </tr>\n",
       "  </tbody>\n",
       "</table>\n",
       "</div>"
      ],
      "text/plain": [
       "           id                 app_name  \\\n",
       "88310  761140      Lost Summoner Kitty   \n",
       "88311  643980                Ironbound   \n",
       "88312  670290  Real Pool 3D - Poolians   \n",
       "\n",
       "                                              genres  \\\n",
       "88310  [Action, Casual, Indie, Simulation, Strategy]   \n",
       "88311                         [Indie, RPG, Strategy]   \n",
       "88312            [Casual, Indie, Simulation, Sports]   \n",
       "\n",
       "                                                   specs  price  \\\n",
       "88310                                  ['Single-player']   4.99   \n",
       "88311  ['Single-player', 'Multi-player', 'Online Mult...   0.00   \n",
       "88312  ['Single-player', 'Multi-player', 'Online Mult...   0.00   \n",
       "\n",
       "              developer  release_year  \n",
       "88310         Kotoshiro        2018.0  \n",
       "88311  Secret Level SRL        2018.0  \n",
       "88312      Poolians.com        2017.0  "
      ]
     },
     "execution_count": 35,
     "metadata": {},
     "output_type": "execute_result"
    }
   ],
   "source": [
    "# eliminar columna release_date y mostrar los tres primeros resultados\n",
    "df_steam = df_steam.drop(columns=['release_date'])\n",
    "df_steam.head(3)"
   ]
  },
  {
   "cell_type": "markdown",
   "metadata": {},
   "source": [
    "## Carga de Datos"
   ]
  },
  {
   "cell_type": "markdown",
   "metadata": {},
   "source": [
    "Se guarda el archivo trabajado en formato parquet y CSV en sus carpetas correspondientes para ser trabajados de acuerdo a la situación. Si los directorios no existen, se crean."
   ]
  },
  {
   "cell_type": "code",
   "execution_count": 36,
   "metadata": {},
   "outputs": [
    {
     "name": "stdout",
     "output_type": "stream",
     "text": [
      "Creando el directorio d:\\Henry-DataScience\\LABS\\Proyecto Individual 1 Steam\\VideoGameRecommender\\src\\CSV...\n",
      "Creando el directorio d:\\Henry-DataScience\\LABS\\Proyecto Individual 1 Steam\\VideoGameRecommender\\src\\Parquet...\n",
      "Archivos exportados exitosamente.\n",
      "Archivos exportados exitosamente.\n"
     ]
    }
   ],
   "source": [
    "export(df_steam, project_root, 'steam_games')\n",
    "# Se exporta, las URLs de los juegos y las reviews en caso de que a futuro se planee realizar web scraping\n",
    "export(games_urls, project_root, 'games_urls')"
   ]
  }
 ],
 "metadata": {
  "kernelspec": {
   "display_name": "envVideoGameRecommendationSystem",
   "language": "python",
   "name": "python3"
  },
  "language_info": {
   "codemirror_mode": {
    "name": "ipython",
    "version": 3
   },
   "file_extension": ".py",
   "mimetype": "text/x-python",
   "name": "python",
   "nbconvert_exporter": "python",
   "pygments_lexer": "ipython3",
   "version": "3.10.11"
  }
 },
 "nbformat": 4,
 "nbformat_minor": 2
}
