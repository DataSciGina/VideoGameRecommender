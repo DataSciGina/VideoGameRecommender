{
 "cells": [
  {
   "cell_type": "markdown",
   "metadata": {},
   "source": [
    "# EDA (Análisis Exploratorio de Datos)"
   ]
  },
  {
   "cell_type": "markdown",
   "metadata": {},
   "source": [
    "Nota: es importante realizar loa procesos de ETL en la carpeta ./ETL/ y el de Feature Engineering en la carpeta ./Feature Engineering/ para realizar este paso."
   ]
  },
  {
   "cell_type": "markdown",
   "metadata": {},
   "source": [
    "## Importar Librerías"
   ]
  },
  {
   "cell_type": "code",
   "execution_count": 8,
   "metadata": {},
   "outputs": [],
   "source": [
    "import pandas as pd\n",
    "import matplotlib.pyplot as plt\n",
    "import seaborn as sns\n",
    "import warnings\n",
    "import os\n",
    "import sys\n",
    "from sklearn.feature_extraction.text import CountVectorizer\n",
    "\n",
    "# Ignorar advertencias\n",
    "warnings.filterwarnings('ignore')"
   ]
  },
  {
   "cell_type": "markdown",
   "metadata": {},
   "source": [
    "### importar funciones personalizadas de ../functions/EDA.py"
   ]
  },
  {
   "cell_type": "code",
   "execution_count": 9,
   "metadata": {},
   "outputs": [],
   "source": [
    "# Obtener el directorio de trabajo actual\n",
    "current_dir = os.getcwd()\n",
    "\n",
    "# Navegar hacia el directorio raíz del proyecto\n",
    "project_root = os.path.abspath(os.path.join(current_dir, '..'))\n",
    "\n",
    "# Agregar la ruta del proyecto al sys.path\n",
    "sys.path.append(project_root)"
   ]
  },
  {
   "cell_type": "code",
   "execution_count": 10,
   "metadata": {},
   "outputs": [],
   "source": [
    "# importar función personalizada de ./VideoGameRecommender/functions/EDA.py\n",
    "# Esta función permite traer el archivo en el formato que se encuentre (CSV o Parquet)\n",
    "from functions.EDA import get_file, get_frequency"
   ]
  },
  {
   "cell_type": "markdown",
   "metadata": {},
   "source": [
    "## EDA - steam_games"
   ]
  },
  {
   "cell_type": "markdown",
   "metadata": {},
   "source": [
    "Se realiza el Análisis Exploratorio de Datos en steam_games."
   ]
  },
  {
   "cell_type": "code",
   "execution_count": 11,
   "metadata": {},
   "outputs": [
    {
     "data": {
      "text/html": [
       "<div>\n",
       "<style scoped>\n",
       "    .dataframe tbody tr th:only-of-type {\n",
       "        vertical-align: middle;\n",
       "    }\n",
       "\n",
       "    .dataframe tbody tr th {\n",
       "        vertical-align: top;\n",
       "    }\n",
       "\n",
       "    .dataframe thead th {\n",
       "        text-align: right;\n",
       "    }\n",
       "</style>\n",
       "<table border=\"1\" class=\"dataframe\">\n",
       "  <thead>\n",
       "    <tr style=\"text-align: right;\">\n",
       "      <th></th>\n",
       "      <th>id</th>\n",
       "      <th>app_name</th>\n",
       "      <th>genres</th>\n",
       "      <th>specs</th>\n",
       "      <th>price</th>\n",
       "      <th>developer</th>\n",
       "      <th>release_year</th>\n",
       "    </tr>\n",
       "  </thead>\n",
       "  <tbody>\n",
       "    <tr>\n",
       "      <th>0</th>\n",
       "      <td>761140</td>\n",
       "      <td>Lost Summoner Kitty</td>\n",
       "      <td>simulation</td>\n",
       "      <td>single-player</td>\n",
       "      <td>4.99</td>\n",
       "      <td>Kotoshiro</td>\n",
       "      <td>2018.0</td>\n",
       "    </tr>\n",
       "    <tr>\n",
       "      <th>1</th>\n",
       "      <td>761140</td>\n",
       "      <td>Lost Summoner Kitty</td>\n",
       "      <td>action</td>\n",
       "      <td>single-player</td>\n",
       "      <td>4.99</td>\n",
       "      <td>Kotoshiro</td>\n",
       "      <td>2018.0</td>\n",
       "    </tr>\n",
       "    <tr>\n",
       "      <th>2</th>\n",
       "      <td>761140</td>\n",
       "      <td>Lost Summoner Kitty</td>\n",
       "      <td>strategy</td>\n",
       "      <td>single-player</td>\n",
       "      <td>4.99</td>\n",
       "      <td>Kotoshiro</td>\n",
       "      <td>2018.0</td>\n",
       "    </tr>\n",
       "  </tbody>\n",
       "</table>\n",
       "</div>"
      ],
      "text/plain": [
       "       id             app_name      genres          specs  price  developer  \\\n",
       "0  761140  Lost Summoner Kitty  simulation  single-player   4.99  Kotoshiro   \n",
       "1  761140  Lost Summoner Kitty      action  single-player   4.99  Kotoshiro   \n",
       "2  761140  Lost Summoner Kitty    strategy  single-player   4.99  Kotoshiro   \n",
       "\n",
       "   release_year  \n",
       "0        2018.0  \n",
       "1        2018.0  \n",
       "2        2018.0  "
      ]
     },
     "execution_count": 11,
     "metadata": {},
     "output_type": "execute_result"
    }
   ],
   "source": [
    "# se importa el archivo procesado con la función get_file(name_file) importada al inicio y se muestran las primeras 3 filas\n",
    "steam_games = get_file('steam_games')\n",
    "steam_games.head(3)"
   ]
  },
  {
   "cell_type": "code",
   "execution_count": 12,
   "metadata": {},
   "outputs": [
    {
     "name": "stdout",
     "output_type": "stream",
     "text": [
      "<class 'pandas.core.frame.DataFrame'>\n",
      "RangeIndex: 192306 entries, 0 to 192305\n",
      "Data columns (total 7 columns):\n",
      " #   Column        Non-Null Count   Dtype  \n",
      "---  ------        --------------   -----  \n",
      " 0   id            192306 non-null  int64  \n",
      " 1   app_name      192306 non-null  object \n",
      " 2   genres        191840 non-null  object \n",
      " 3   specs         186110 non-null  object \n",
      " 4   price         186953 non-null  float64\n",
      " 5   developer     178277 non-null  object \n",
      " 6   release_year  178559 non-null  float64\n",
      "dtypes: float64(2), int64(1), object(4)\n",
      "memory usage: 10.3+ MB\n"
     ]
    }
   ],
   "source": [
    "# se verifican valores nulos y tipos de dato\n",
    "steam_games.info()"
   ]
  },
  {
   "cell_type": "markdown",
   "metadata": {},
   "source": [
    "### Columna Géneros"
   ]
  },
  {
   "cell_type": "code",
   "execution_count": 13,
   "metadata": {},
   "outputs": [
    {
     "data": {
      "text/html": [
       "<div>\n",
       "<style scoped>\n",
       "    .dataframe tbody tr th:only-of-type {\n",
       "        vertical-align: middle;\n",
       "    }\n",
       "\n",
       "    .dataframe tbody tr th {\n",
       "        vertical-align: top;\n",
       "    }\n",
       "\n",
       "    .dataframe thead th {\n",
       "        text-align: right;\n",
       "    }\n",
       "</style>\n",
       "<table border=\"1\" class=\"dataframe\">\n",
       "  <thead>\n",
       "    <tr style=\"text-align: right;\">\n",
       "      <th></th>\n",
       "      <th>id</th>\n",
       "      <th>genres</th>\n",
       "    </tr>\n",
       "  </thead>\n",
       "  <tbody>\n",
       "    <tr>\n",
       "      <th>192301</th>\n",
       "      <td>658870</td>\n",
       "      <td>indie</td>\n",
       "    </tr>\n",
       "    <tr>\n",
       "      <th>192302</th>\n",
       "      <td>681550</td>\n",
       "      <td>simulation</td>\n",
       "    </tr>\n",
       "    <tr>\n",
       "      <th>192303</th>\n",
       "      <td>681550</td>\n",
       "      <td>action</td>\n",
       "    </tr>\n",
       "    <tr>\n",
       "      <th>192304</th>\n",
       "      <td>681550</td>\n",
       "      <td>adventure</td>\n",
       "    </tr>\n",
       "    <tr>\n",
       "      <th>192305</th>\n",
       "      <td>681550</td>\n",
       "      <td>indie</td>\n",
       "    </tr>\n",
       "  </tbody>\n",
       "</table>\n",
       "</div>"
      ],
      "text/plain": [
       "            id      genres\n",
       "192301  658870       indie\n",
       "192302  681550  simulation\n",
       "192303  681550      action\n",
       "192304  681550   adventure\n",
       "192305  681550       indie"
      ]
     },
     "execution_count": 13,
     "metadata": {},
     "output_type": "execute_result"
    }
   ],
   "source": [
    "# crear DF con valores únicos de juegos y géneros\n",
    "games_genre = steam_games[['id', 'genres']]\n",
    "games_genre.drop_duplicates(inplace=True)\n",
    "\n",
    "# eliminar valores nulos\n",
    "games_genre.dropna(inplace=True)\n",
    "\n",
    "games_genre.tail()"
   ]
  },
  {
   "cell_type": "markdown",
   "metadata": {},
   "source": [
    "### Visualizar géneros más comunes"
   ]
  },
  {
   "cell_type": "code",
   "execution_count": 15,
   "metadata": {},
   "outputs": [
    {
     "data": {
      "text/html": [
       "<div>\n",
       "<style scoped>\n",
       "    .dataframe tbody tr th:only-of-type {\n",
       "        vertical-align: middle;\n",
       "    }\n",
       "\n",
       "    .dataframe tbody tr th {\n",
       "        vertical-align: top;\n",
       "    }\n",
       "\n",
       "    .dataframe thead th {\n",
       "        text-align: right;\n",
       "    }\n",
       "</style>\n",
       "<table border=\"1\" class=\"dataframe\">\n",
       "  <thead>\n",
       "    <tr style=\"text-align: right;\">\n",
       "      <th></th>\n",
       "      <th>genres</th>\n",
       "      <th>frequency</th>\n",
       "      <th>percentage</th>\n",
       "    </tr>\n",
       "  </thead>\n",
       "  <tbody>\n",
       "    <tr>\n",
       "      <th>0</th>\n",
       "      <td>indie</td>\n",
       "      <td>17641</td>\n",
       "      <td>13.358322</td>\n",
       "    </tr>\n",
       "    <tr>\n",
       "      <th>1</th>\n",
       "      <td>action</td>\n",
       "      <td>13116</td>\n",
       "      <td>9.931849</td>\n",
       "    </tr>\n",
       "    <tr>\n",
       "      <th>2</th>\n",
       "      <td>adventure</td>\n",
       "      <td>9974</td>\n",
       "      <td>7.552628</td>\n",
       "    </tr>\n",
       "    <tr>\n",
       "      <th>3</th>\n",
       "      <td>casual</td>\n",
       "      <td>9767</td>\n",
       "      <td>7.395881</td>\n",
       "    </tr>\n",
       "    <tr>\n",
       "      <th>4</th>\n",
       "      <td>strategy</td>\n",
       "      <td>8937</td>\n",
       "      <td>6.767378</td>\n",
       "    </tr>\n",
       "    <tr>\n",
       "      <th>5</th>\n",
       "      <td>simulation</td>\n",
       "      <td>8035</td>\n",
       "      <td>6.084356</td>\n",
       "    </tr>\n",
       "    <tr>\n",
       "      <th>6</th>\n",
       "      <td>role-playing</td>\n",
       "      <td>6116</td>\n",
       "      <td>4.631228</td>\n",
       "    </tr>\n",
       "    <tr>\n",
       "      <th>7</th>\n",
       "      <td>co-op</td>\n",
       "      <td>5530</td>\n",
       "      <td>4.187491</td>\n",
       "    </tr>\n",
       "    <tr>\n",
       "      <th>8</th>\n",
       "      <td>puzzle</td>\n",
       "      <td>2277</td>\n",
       "      <td>1.724216</td>\n",
       "    </tr>\n",
       "    <tr>\n",
       "      <th>9</th>\n",
       "      <td>real-time</td>\n",
       "      <td>2236</td>\n",
       "      <td>1.693170</td>\n",
       "    </tr>\n",
       "    <tr>\n",
       "      <th>10</th>\n",
       "      <td>shooter</td>\n",
       "      <td>2191</td>\n",
       "      <td>1.659094</td>\n",
       "    </tr>\n",
       "    <tr>\n",
       "      <th>11</th>\n",
       "      <td>sports</td>\n",
       "      <td>1639</td>\n",
       "      <td>1.241103</td>\n",
       "    </tr>\n",
       "    <tr>\n",
       "      <th>12</th>\n",
       "      <td>platformer</td>\n",
       "      <td>1629</td>\n",
       "      <td>1.233530</td>\n",
       "    </tr>\n",
       "    <tr>\n",
       "      <th>13</th>\n",
       "      <td>first-person</td>\n",
       "      <td>1547</td>\n",
       "      <td>1.171437</td>\n",
       "    </tr>\n",
       "    <tr>\n",
       "      <th>14</th>\n",
       "      <td>horror</td>\n",
       "      <td>1539</td>\n",
       "      <td>1.165379</td>\n",
       "    </tr>\n",
       "  </tbody>\n",
       "</table>\n",
       "</div>"
      ],
      "text/plain": [
       "          genres  frequency  percentage\n",
       "0          indie      17641   13.358322\n",
       "1         action      13116    9.931849\n",
       "2      adventure       9974    7.552628\n",
       "3         casual       9767    7.395881\n",
       "4       strategy       8937    6.767378\n",
       "5     simulation       8035    6.084356\n",
       "6   role-playing       6116    4.631228\n",
       "7          co-op       5530    4.187491\n",
       "8         puzzle       2277    1.724216\n",
       "9      real-time       2236    1.693170\n",
       "10       shooter       2191    1.659094\n",
       "11        sports       1639    1.241103\n",
       "12    platformer       1629    1.233530\n",
       "13  first-person       1547    1.171437\n",
       "14        horror       1539    1.165379"
      ]
     },
     "execution_count": 15,
     "metadata": {},
     "output_type": "execute_result"
    }
   ],
   "source": [
    "# se utiliza la función get_frequency(df, elem, control) del archivo ../functions/EDA.py \n",
    "# sirve aislar el contenido y visualizar porcentaje de frecuencia\n",
    "genres = get_frequency(games_genre, 'genres', 'id')\n",
    "top_genres = genres.head(15)\n",
    "top_genres"
   ]
  },
  {
   "cell_type": "code",
   "execution_count": 16,
   "metadata": {},
   "outputs": [
    {
     "data": {
      "image/png": "[encoded data removed]",
      "text/plain": [
       "<Figure size 640x480 with 1 Axes>"
      ]
     },
     "metadata": {},
     "output_type": "display_data"
    }
   ],
   "source": [
    "# visualizar los géneros más comunes\n",
    "sns.barplot(x='genres', y='frequency', data=top_genres[['genres', 'frequency']])\n",
    "plt.title('Top 15 Géneros más comunes')\n",
    "plt.xticks(rotation=90)\n",
    "plt.tight_layout()\n",
    "plt.show()"
   ]
  },
  {
   "cell_type": "markdown",
   "metadata": {},
   "source": [
    "### Visualizar modalidades de juego más comunes"
   ]
  },
  {
   "cell_type": "code",
   "execution_count": 17,
   "metadata": {},
   "outputs": [
    {
     "data": {
      "text/html": [
       "<div>\n",
       "<style scoped>\n",
       "    .dataframe tbody tr th:only-of-type {\n",
       "        vertical-align: middle;\n",
       "    }\n",
       "\n",
       "    .dataframe tbody tr th {\n",
       "        vertical-align: top;\n",
       "    }\n",
       "\n",
       "    .dataframe thead th {\n",
       "        text-align: right;\n",
       "    }\n",
       "</style>\n",
       "<table border=\"1\" class=\"dataframe\">\n",
       "  <thead>\n",
       "    <tr style=\"text-align: right;\">\n",
       "      <th></th>\n",
       "      <th>specs</th>\n",
       "      <th>frequency</th>\n",
       "      <th>percentage</th>\n",
       "    </tr>\n",
       "  </thead>\n",
       "  <tbody>\n",
       "    <tr>\n",
       "      <th>0</th>\n",
       "      <td>single-player</td>\n",
       "      <td>27574</td>\n",
       "      <td>65.763553</td>\n",
       "    </tr>\n",
       "    <tr>\n",
       "      <th>1</th>\n",
       "      <td>multi-player</td>\n",
       "      <td>8198</td>\n",
       "      <td>19.552100</td>\n",
       "    </tr>\n",
       "    <tr>\n",
       "      <th>2</th>\n",
       "      <td>cross-platform multiplayer</td>\n",
       "      <td>2550</td>\n",
       "      <td>6.081710</td>\n",
       "    </tr>\n",
       "    <tr>\n",
       "      <th>3</th>\n",
       "      <td>online multi-player</td>\n",
       "      <td>2370</td>\n",
       "      <td>5.652412</td>\n",
       "    </tr>\n",
       "    <tr>\n",
       "      <th>4</th>\n",
       "      <td>local multi-player</td>\n",
       "      <td>1237</td>\n",
       "      <td>2.950225</td>\n",
       "    </tr>\n",
       "  </tbody>\n",
       "</table>\n",
       "</div>"
      ],
      "text/plain": [
       "                        specs  frequency  percentage\n",
       "0               single-player      27574   65.763553\n",
       "1                multi-player       8198   19.552100\n",
       "2  cross-platform multiplayer       2550    6.081710\n",
       "3         online multi-player       2370    5.652412\n",
       "4          local multi-player       1237    2.950225"
      ]
     },
     "execution_count": 17,
     "metadata": {},
     "output_type": "execute_result"
    }
   ],
   "source": [
    "# se utiliza la función get_frequency(df, elem, control) del archivo ./functios/EDA.py\n",
    "game_modes = get_frequency(steam_games, 'specs', 'id')\n",
    "game_modes"
   ]
  }
 ],
 "metadata": {
  "kernelspec": {
   "display_name": "envVideoGameRecommendationSystem",
   "language": "python",
   "name": "python3"
  },
  "language_info": {
   "codemirror_mode": {
    "name": "ipython",
    "version": 3
   },
   "file_extension": ".py",
   "mimetype": "text/x-python",
   "name": "python",
   "nbconvert_exporter": "python",
   "pygments_lexer": "ipython3",
   "version": "3.10.11"
  }
 },
 "nbformat": 4,
 "nbformat_minor": 2
}
