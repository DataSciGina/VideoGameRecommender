{
 "cells": [
  {
   "cell_type": "markdown",
   "metadata": {},
   "source": [
    "# Análisis de Sentimientos"
   ]
  },
  {
   "cell_type": "markdown",
   "metadata": {},
   "source": [
    "En este archivo se calcula el sentimiento de cada review para luego asignarle un valor (0: negativo, 1: neutral, 2: positivo). "
   ]
  },
  {
   "cell_type": "markdown",
   "metadata": {},
   "source": [
    "### Importar Librerías"
   ]
  },
  {
   "cell_type": "code",
   "execution_count": 1,
   "metadata": {},
   "outputs": [],
   "source": [
    "from nltk.sentiment.vader import SentimentIntensityAnalyzer \n",
    "from warnings import filterwarnings\n",
    "import os\n",
    "import sys\n",
    "import pandas as pd\n",
    "import nltk\n",
    "import re\n",
    "\n",
    "# Ignorar todas las advertencias\n",
    "filterwarnings(\"ignore\")"
   ]
  },
  {
   "cell_type": "code",
   "execution_count": 2,
   "metadata": {},
   "outputs": [
    {
     "name": "stderr",
     "output_type": "stream",
     "text": [
      "[nltk_data] Downloading package vader_lexicon to\n",
      "[nltk_data]     C:\\Users\\Eris\\AppData\\Roaming\\nltk_data...\n",
      "[nltk_data]   Package vader_lexicon is already up-to-date!\n"
     ]
    },
    {
     "data": {
      "text/plain": [
       "True"
      ]
     },
     "execution_count": 2,
     "metadata": {},
     "output_type": "execute_result"
    }
   ],
   "source": [
    "# descargar el modelo vader_lexicon de NLTK\n",
    "nltk.download('vader_lexicon')"
   ]
  },
  {
   "cell_type": "code",
   "execution_count": 3,
   "metadata": {},
   "outputs": [],
   "source": [
    "# Obtener el directorio de trabajo actual\n",
    "current_dir = os.getcwd()\n",
    "\n",
    "# Navegar hacia el directorio raíz del proyecto\n",
    "project_root = os.path.abspath(os.path.join(current_dir, '..'))\n",
    "\n",
    "# Agregar la ruta del proyecto al sys.path\n",
    "sys.path.append(project_root)"
   ]
  },
  {
   "cell_type": "code",
   "execution_count": 4,
   "metadata": {},
   "outputs": [],
   "source": [
    "# importar función get_file(name_file) de ../functions/EDA.py para leer archivo de reviews\n",
    "from functions.EDA import get_file\n",
    "\n",
    "# importar función export(df, project_root, file) de ../functions/ETL.py para guardar el nuevo archivo\n",
    "from functions.ETL import export\n"
   ]
  },
  {
   "cell_type": "markdown",
   "metadata": {},
   "source": [
    "### Importar DataSet user_reviews para realizar análisis de sentimientos"
   ]
  },
  {
   "cell_type": "code",
   "execution_count": 5,
   "metadata": {},
   "outputs": [
    {
     "data": {
      "text/html": [
       "<div>\n",
       "<style scoped>\n",
       "    .dataframe tbody tr th:only-of-type {\n",
       "        vertical-align: middle;\n",
       "    }\n",
       "\n",
       "    .dataframe tbody tr th {\n",
       "        vertical-align: top;\n",
       "    }\n",
       "\n",
       "    .dataframe thead th {\n",
       "        text-align: right;\n",
       "    }\n",
       "</style>\n",
       "<table border=\"1\" class=\"dataframe\">\n",
       "  <thead>\n",
       "    <tr style=\"text-align: right;\">\n",
       "      <th></th>\n",
       "      <th>user_id</th>\n",
       "      <th>posted</th>\n",
       "      <th>item_id</th>\n",
       "      <th>recommend</th>\n",
       "      <th>review</th>\n",
       "    </tr>\n",
       "  </thead>\n",
       "  <tbody>\n",
       "    <tr>\n",
       "      <th>0</th>\n",
       "      <td>76561197970982479</td>\n",
       "      <td>2011-11-05</td>\n",
       "      <td>1250</td>\n",
       "      <td>1</td>\n",
       "      <td>Simple yet with great replayability. In my opi...</td>\n",
       "    </tr>\n",
       "    <tr>\n",
       "      <th>1</th>\n",
       "      <td>76561197970982479</td>\n",
       "      <td>2011-07-15</td>\n",
       "      <td>22200</td>\n",
       "      <td>1</td>\n",
       "      <td>It's unique and worth a playthrough.</td>\n",
       "    </tr>\n",
       "    <tr>\n",
       "      <th>2</th>\n",
       "      <td>76561197970982479</td>\n",
       "      <td>2011-04-21</td>\n",
       "      <td>43110</td>\n",
       "      <td>1</td>\n",
       "      <td>Great atmosphere. The gunplay can be a bit chu...</td>\n",
       "    </tr>\n",
       "  </tbody>\n",
       "</table>\n",
       "</div>"
      ],
      "text/plain": [
       "             user_id      posted  item_id  recommend  \\\n",
       "0  76561197970982479  2011-11-05     1250          1   \n",
       "1  76561197970982479  2011-07-15    22200          1   \n",
       "2  76561197970982479  2011-04-21    43110          1   \n",
       "\n",
       "                                              review  \n",
       "0  Simple yet with great replayability. In my opi...  \n",
       "1               It's unique and worth a playthrough.  \n",
       "2  Great atmosphere. The gunplay can be a bit chu...  "
      ]
     },
     "execution_count": 5,
     "metadata": {},
     "output_type": "execute_result"
    }
   ],
   "source": [
    "# importamos dataset y visualizamos\n",
    "df = get_file('user_reviews')\n",
    "df.head(3)"
   ]
  },
  {
   "cell_type": "markdown",
   "metadata": {},
   "source": [
    "### Realizar análisis de sentimientos"
   ]
  },
  {
   "cell_type": "markdown",
   "metadata": {},
   "source": [
    "Para realizar la clasificación de reviews, se utilizó la biblioteca NLTK, que proporciona varias funciones útiles para el procesamiento de lenguaje natural. Se seleccionó el algoritmo VADER, que es un modelo de análisis de opiniones basado en reglas de aprendizaje automático.\n",
    "\n",
    "<br>\n",
    "Se decidió no realizar stemming ni lematización dado el entrenamiento del modelo VADER en un amplio corpus de lenguaje natural (incluyendo comentarios informales), lo que le permite manejar adecuadamente palabras en sus formas originales.\n",
    "\n",
    "<br>\n",
    "Razones por las que el Stemming y la Lematización pueden no ser necesarios:<br>\n",
    "\n",
    "    1. VADER maneja formas de palabras \n",
    "    2. El corpus de entrenamiento del modelo VADER contiene palabras en sus formas originales\n",
    "    3. VADER tiene en cuenta signos de puntuación (incluyendo emoticonos hechos con caracteres como ':)')"
   ]
  },
  {
   "cell_type": "code",
   "execution_count": 6,
   "metadata": {},
   "outputs": [],
   "source": [
    "# Función para preprocesar la review\n",
    "def preprocess_review(review):\n",
    "    \"\"\"\n",
    "    Esta función preprocesa las reviews para reemplazar símbolos o patrones\n",
    "    que no son bien interpretados por el análisis de sentimientos.\n",
    "    \"\"\"\n",
    "    if pd.isnull(review):\n",
    "        return review\n",
    "\n",
    "    # Reemplazar puntuaciones como 10/10 o 100/100 con términos positivos\n",
    "    review = re.sub(r'\\b\\d+/10\\b', 'excellent!', review)  # Reemplaza puntuaciones como 10/10\n",
    "    review = re.sub(r'\\b100/100\\b', 'perfect!', review)  # Reemplaza puntuaciones 100/100\n",
    "    \n",
    "    # Reemplazar corazones ♥ con \"I love it\"\n",
    "    review = re.sub(r'♥+', 'I love it!', review)  # + para capturar múltiples corazones\n",
    "    \n",
    "    # Si hay muchos puntos suspensivos, podemos ignorarlos\n",
    "    review = re.sub(r'\\.{3,}', '', review)  # Remover tres o más puntos\n",
    "    \n",
    "    return review"
   ]
  },
  {
   "cell_type": "markdown",
   "metadata": {},
   "source": [
    "La función analyze(review, recommend) realiza análisis de sentimientos de la siguiente manera:\n",
    "- Si el sentimiento es positivo y la reseña positiva, retorna 2 (positivo)\n",
    "- Si el sentimiento es positivo y la reseña negativa, retorna 1 (neutral)\n",
    "- Si el sentimiento es negativo y la reseña positiva, retorna 1 (neutral)\n",
    "- Si el sentimiento es negativo y la reseña negativa, retorna 0 (negativo)\n",
    "- Si no existe reseña, retorna 1 (neutral)\n",
    "\n"
   ]
  },
  {
   "cell_type": "code",
   "execution_count": 7,
   "metadata": {},
   "outputs": [],
   "source": [
    "# se crea una instancia global de SentimentIntensityAnalyzer\n",
    "sid = SentimentIntensityAnalyzer()"
   ]
  },
  {
   "cell_type": "code",
   "execution_count": 8,
   "metadata": {},
   "outputs": [],
   "source": [
    "# Define la función para el análisis de sentimientos con recomendación ajustada por componentes\n",
    "def analyze(review, recommend):\n",
    "    \"\"\"\n",
    "    Esta función recibe una review y un valor de recomendación, y retorna:\n",
    "    0 si el sentimiento es negativo.\n",
    "    1 si el sentimiento es neutral.\n",
    "    2 si el sentimiento es positivo.\n",
    "    Se da preferencia a la recomendación si existe.\n",
    "    \"\"\"\n",
    "    # Si la review está vacía, retorna 1 (neutral)\n",
    "    if pd.isnull(review):\n",
    "        return 1\n",
    "\n",
    "    # Obtiene los componentes de sentimiento (pos, neg, neu)\n",
    "    sentiment_scores = sid.polarity_scores(review)\n",
    "    compound = sentiment_scores['compound']\n",
    "    pos = sentiment_scores['pos']\n",
    "    neg = sentiment_scores['neg']\n",
    "    neu = sentiment_scores['neu']\n",
    "\n",
    "    # Define un ajuste basado en los componentes del sentimiento\n",
    "    if recommend is not None:\n",
    "        if recommend == 1:  # Si recomienda el producto\n",
    "            if pos > neg and pos > neu:\n",
    "                compound += pos * 0.5  # Aumenta el impacto positivo si el sentimiento positivo predomina\n",
    "            elif neu > pos and neu > neg:\n",
    "                compound += neu * 0.3  # Aumenta un poco si el sentimiento es muy neutral\n",
    "        elif recommend == 0:  # Si no recomienda el producto\n",
    "            if neg > pos and neg > neu:\n",
    "                compound -= neg * 0.5  # Reduce si el sentimiento negativo predomina\n",
    "            elif neu > pos and neu > neg:\n",
    "                compound -= neu * 0.3  # Ajuste menor si es neutral\n",
    "\n",
    "    # Determinar el valor del sentimiento basado en el score ajustado\n",
    "    if compound >= 0.05:\n",
    "        sentiment_value = 2  # Positivo\n",
    "    elif compound <= -0.05:\n",
    "        sentiment_value = 0  # Negativo\n",
    "    else:\n",
    "        sentiment_value = 1  # Neutral\n",
    "\n",
    "    # Si el usuario recomendó pero el sentimiento es negativo\n",
    "    if recommend == 1 and sentiment_value == 0:\n",
    "        return 1  # Lo ajustamos a neutral ya que recomienda pese al sentimiento negativo\n",
    "    \n",
    "    # Si el usuario no recomienda pero el sentimiento es positivo\n",
    "    if recommend == 0 and sentiment_value == 2:\n",
    "        return 1  # Lo ajustamos a neutral ya que no recomienda pese al sentimiento positivo\n",
    "\n",
    "    return sentiment_value\n"
   ]
  },
  {
   "cell_type": "code",
   "execution_count": 9,
   "metadata": {},
   "outputs": [
    {
     "data": {
      "text/html": [
       "<div>\n",
       "<style scoped>\n",
       "    .dataframe tbody tr th:only-of-type {\n",
       "        vertical-align: middle;\n",
       "    }\n",
       "\n",
       "    .dataframe tbody tr th {\n",
       "        vertical-align: top;\n",
       "    }\n",
       "\n",
       "    .dataframe thead th {\n",
       "        text-align: right;\n",
       "    }\n",
       "</style>\n",
       "<table border=\"1\" class=\"dataframe\">\n",
       "  <thead>\n",
       "    <tr style=\"text-align: right;\">\n",
       "      <th></th>\n",
       "      <th>user_id</th>\n",
       "      <th>posted</th>\n",
       "      <th>item_id</th>\n",
       "      <th>recommend</th>\n",
       "      <th>review</th>\n",
       "    </tr>\n",
       "  </thead>\n",
       "  <tbody>\n",
       "    <tr>\n",
       "      <th>0</th>\n",
       "      <td>76561197970982479</td>\n",
       "      <td>2011-11-05</td>\n",
       "      <td>1250</td>\n",
       "      <td>1</td>\n",
       "      <td>Simple yet with great replayability. In my opi...</td>\n",
       "    </tr>\n",
       "    <tr>\n",
       "      <th>1</th>\n",
       "      <td>76561197970982479</td>\n",
       "      <td>2011-07-15</td>\n",
       "      <td>22200</td>\n",
       "      <td>1</td>\n",
       "      <td>It's unique and worth a playthrough.</td>\n",
       "    </tr>\n",
       "    <tr>\n",
       "      <th>2</th>\n",
       "      <td>76561197970982479</td>\n",
       "      <td>2011-04-21</td>\n",
       "      <td>43110</td>\n",
       "      <td>1</td>\n",
       "      <td>Great atmosphere. The gunplay can be a bit chu...</td>\n",
       "    </tr>\n",
       "  </tbody>\n",
       "</table>\n",
       "</div>"
      ],
      "text/plain": [
       "             user_id      posted  item_id  recommend  \\\n",
       "0  76561197970982479  2011-11-05     1250          1   \n",
       "1  76561197970982479  2011-07-15    22200          1   \n",
       "2  76561197970982479  2011-04-21    43110          1   \n",
       "\n",
       "                                              review  \n",
       "0  Simple yet with great replayability. In my opi...  \n",
       "1               It's unique and worth a playthrough.  \n",
       "2  Great atmosphere. The gunplay can be a bit chu...  "
      ]
     },
     "execution_count": 9,
     "metadata": {},
     "output_type": "execute_result"
    }
   ],
   "source": [
    "# procesa determinados elementos de las reviews para optimizar la interpretación\n",
    "df['review'] = df.apply(lambda row: preprocess_review(row['review']), axis=1)\n",
    "\n",
    "df.head(3)"
   ]
  },
  {
   "cell_type": "code",
   "execution_count": 10,
   "metadata": {},
   "outputs": [
    {
     "data": {
      "text/html": [
       "<div>\n",
       "<style scoped>\n",
       "    .dataframe tbody tr th:only-of-type {\n",
       "        vertical-align: middle;\n",
       "    }\n",
       "\n",
       "    .dataframe tbody tr th {\n",
       "        vertical-align: top;\n",
       "    }\n",
       "\n",
       "    .dataframe thead th {\n",
       "        text-align: right;\n",
       "    }\n",
       "</style>\n",
       "<table border=\"1\" class=\"dataframe\">\n",
       "  <thead>\n",
       "    <tr style=\"text-align: right;\">\n",
       "      <th></th>\n",
       "      <th>user_id</th>\n",
       "      <th>posted</th>\n",
       "      <th>item_id</th>\n",
       "      <th>recommend</th>\n",
       "      <th>review</th>\n",
       "      <th>sentiment_analysis</th>\n",
       "    </tr>\n",
       "  </thead>\n",
       "  <tbody>\n",
       "    <tr>\n",
       "      <th>0</th>\n",
       "      <td>76561197970982479</td>\n",
       "      <td>2011-11-05</td>\n",
       "      <td>1250</td>\n",
       "      <td>1</td>\n",
       "      <td>Simple yet with great replayability. In my opi...</td>\n",
       "      <td>2</td>\n",
       "    </tr>\n",
       "    <tr>\n",
       "      <th>1</th>\n",
       "      <td>76561197970982479</td>\n",
       "      <td>2011-07-15</td>\n",
       "      <td>22200</td>\n",
       "      <td>1</td>\n",
       "      <td>It's unique and worth a playthrough.</td>\n",
       "      <td>2</td>\n",
       "    </tr>\n",
       "    <tr>\n",
       "      <th>2</th>\n",
       "      <td>76561197970982479</td>\n",
       "      <td>2011-04-21</td>\n",
       "      <td>43110</td>\n",
       "      <td>1</td>\n",
       "      <td>Great atmosphere. The gunplay can be a bit chu...</td>\n",
       "      <td>2</td>\n",
       "    </tr>\n",
       "  </tbody>\n",
       "</table>\n",
       "</div>"
      ],
      "text/plain": [
       "             user_id      posted  item_id  recommend  \\\n",
       "0  76561197970982479  2011-11-05     1250          1   \n",
       "1  76561197970982479  2011-07-15    22200          1   \n",
       "2  76561197970982479  2011-04-21    43110          1   \n",
       "\n",
       "                                              review  sentiment_analysis  \n",
       "0  Simple yet with great replayability. In my opi...                   2  \n",
       "1               It's unique and worth a playthrough.                   2  \n",
       "2  Great atmosphere. The gunplay can be a bit chu...                   2  "
      ]
     },
     "execution_count": 10,
     "metadata": {},
     "output_type": "execute_result"
    }
   ],
   "source": [
    "# crea una columna con los resultados del análisis (0: negativo, 1: neutral, 2: positivo) y se visualizan resultados\n",
    "df['sentiment_analysis'] = df.apply(lambda row: analyze(row['review'], row['recommend']), axis=1)\n",
    "\n",
    "df.head(3)"
   ]
  },
  {
   "cell_type": "code",
   "execution_count": 12,
   "metadata": {},
   "outputs": [
    {
     "data": {
      "text/html": [
       "<div>\n",
       "<style scoped>\n",
       "    .dataframe tbody tr th:only-of-type {\n",
       "        vertical-align: middle;\n",
       "    }\n",
       "\n",
       "    .dataframe tbody tr th {\n",
       "        vertical-align: top;\n",
       "    }\n",
       "\n",
       "    .dataframe thead th {\n",
       "        text-align: right;\n",
       "    }\n",
       "</style>\n",
       "<table border=\"1\" class=\"dataframe\">\n",
       "  <thead>\n",
       "    <tr style=\"text-align: right;\">\n",
       "      <th></th>\n",
       "      <th>user_id</th>\n",
       "      <th>posted</th>\n",
       "      <th>item_id</th>\n",
       "      <th>recommend</th>\n",
       "      <th>review</th>\n",
       "    </tr>\n",
       "  </thead>\n",
       "  <tbody>\n",
       "    <tr>\n",
       "      <th>0</th>\n",
       "      <td>76561197970982479</td>\n",
       "      <td>2011-11-05</td>\n",
       "      <td>1250</td>\n",
       "      <td>1</td>\n",
       "      <td>2</td>\n",
       "    </tr>\n",
       "    <tr>\n",
       "      <th>1</th>\n",
       "      <td>76561197970982479</td>\n",
       "      <td>2011-07-15</td>\n",
       "      <td>22200</td>\n",
       "      <td>1</td>\n",
       "      <td>2</td>\n",
       "    </tr>\n",
       "    <tr>\n",
       "      <th>2</th>\n",
       "      <td>76561197970982479</td>\n",
       "      <td>2011-04-21</td>\n",
       "      <td>43110</td>\n",
       "      <td>1</td>\n",
       "      <td>2</td>\n",
       "    </tr>\n",
       "  </tbody>\n",
       "</table>\n",
       "</div>"
      ],
      "text/plain": [
       "             user_id      posted  item_id  recommend  review\n",
       "0  76561197970982479  2011-11-05     1250          1       2\n",
       "1  76561197970982479  2011-07-15    22200          1       2\n",
       "2  76561197970982479  2011-04-21    43110          1       2"
      ]
     },
     "execution_count": 12,
     "metadata": {},
     "output_type": "execute_result"
    }
   ],
   "source": [
    "# reemplazar datos en review por datos de sentiment_analysis\n",
    "df['review'] = df['sentiment_analysis']\n",
    "\n",
    "# eliminar columna 'sentiment_analysis' y visualizar\n",
    "df.drop('sentiment_analysis', axis=1, inplace=True)\n",
    "\n",
    "df.head(3)"
   ]
  },
  {
   "cell_type": "code",
   "execution_count": 11,
   "metadata": {},
   "outputs": [
    {
     "name": "stdout",
     "output_type": "stream",
     "text": [
      "<class 'pandas.core.frame.DataFrame'>\n",
      "RangeIndex: 59305 entries, 0 to 59304\n",
      "Data columns (total 6 columns):\n",
      " #   Column              Non-Null Count  Dtype \n",
      "---  ------              --------------  ----- \n",
      " 0   user_id             59305 non-null  object\n",
      " 1   posted              59305 non-null  object\n",
      " 2   item_id             59305 non-null  int64 \n",
      " 3   recommend           59305 non-null  int64 \n",
      " 4   review              59275 non-null  object\n",
      " 5   sentiment_analysis  59305 non-null  int64 \n",
      "dtypes: int64(3), object(3)\n",
      "memory usage: 2.7+ MB\n"
     ]
    }
   ],
   "source": [
    "# revisar tipo de dato y verificar nulos\n",
    "df.info()"
   ]
  },
  {
   "cell_type": "markdown",
   "metadata": {},
   "source": [
    "### Exportar DataFrame"
   ]
  },
  {
   "cell_type": "code",
   "execution_count": 13,
   "metadata": {},
   "outputs": [
    {
     "name": "stdout",
     "output_type": "stream",
     "text": [
      "Archivos exportados exitosamente.\n"
     ]
    }
   ],
   "source": [
    "# Se utiliza la función export(df, project_root, file) de ../functions/ETL.py para guardar el nuevo archivo\n",
    "export(df, project_root, 'user_reviews_sentiment_analysis')"
   ]
  }
 ],
 "metadata": {
  "kernelspec": {
   "display_name": "envVideoGameRecommendationSystem",
   "language": "python",
   "name": "python3"
  },
  "language_info": {
   "codemirror_mode": {
    "name": "ipython",
    "version": 3
   },
   "file_extension": ".py",
   "mimetype": "text/x-python",
   "name": "python",
   "nbconvert_exporter": "python",
   "pygments_lexer": "ipython3",
   "version": "3.10.11"
  }
 },
 "nbformat": 4,
 "nbformat_minor": 2
}
