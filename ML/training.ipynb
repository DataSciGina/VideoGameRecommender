{
 "cells": [
  {
   "cell_type": "code",
   "execution_count": 2,
   "metadata": {},
   "outputs": [],
   "source": [
    "import pandas as pd\n",
    "from sklearn.preprocessing import StandardScaler\n",
    "from sklearn.metrics.pairwise import cosine_similarity\n",
    "import warnings\n",
    "from joblib import dump\n",
    "import os\n",
    "\n",
    "# Ignorar advertencias\n",
    "warnings.filterwarnings('ignore')"
   ]
  },
  {
   "cell_type": "code",
   "execution_count": 4,
   "metadata": {},
   "outputs": [],
   "source": [
    "### Cargar DataSets\n",
    "try:\n",
    "    df = pd.read_parquet(os.path.abspath('../src/Parquet/dummies.parquet'))\n",
    "    games = pd.read_parquet(os.path.abspath('../src/Parquet/games.parquet'))\n",
    "except FileNotFoundError:\n",
    "    df = pd.read_csv(os.path.abspath('../src/CSV/dummies.csv'))\n",
    "    games = pd.read_csv(os.path.abspath('../src/CSV/games.csv'))"
   ]
  },
  {
   "cell_type": "code",
   "execution_count": 5,
   "metadata": {},
   "outputs": [
    {
     "data": {
      "text/plain": [
       "['matrix.joblib']"
      ]
     },
     "execution_count": 5,
     "metadata": {},
     "output_type": "execute_result"
    }
   ],
   "source": [
    "## Escalar Datos\n",
    "\n",
    "# Inicializar escalador\n",
    "scaler = StandardScaler()\n",
    "\n",
    "# Se escala la data (excepto la columna 'id' si está presente)\n",
    "scaled_data = scaler.fit_transform(df.drop(columns=['id'], errors='ignore'))\n",
    "scaled_df = pd.DataFrame(scaled_data, columns=df.columns.drop('id', errors='ignore'))\n",
    "\n",
    "# Calcular matriz de similitud\n",
    "matrix = cosine_similarity(scaled_df)\n",
    "\n",
    "# Guardar el modelo con compresión para ahorrar espacio\n",
    "dump(matrix, 'matrix.joblib', compress=9)"
   ]
  }
 ],
 "metadata": {
  "kernelspec": {
   "display_name": "envVideoGameRecommendationSystem",
   "language": "python",
   "name": "python3"
  },
  "language_info": {
   "codemirror_mode": {
    "name": "ipython",
    "version": 3
   },
   "file_extension": ".py",
   "mimetype": "text/x-python",
   "name": "python",
   "nbconvert_exporter": "python",
   "pygments_lexer": "ipython3",
   "version": "3.10.11"
  }
 },
 "nbformat": 4,
 "nbformat_minor": 2
}
